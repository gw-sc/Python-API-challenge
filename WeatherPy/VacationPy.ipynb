{
 "cells": [
  {
   "cell_type": "markdown",
   "metadata": {},
   "source": [
    "# VacationPy\n",
    "----\n",
    "\n",
    "#### Note\n",
    "* Keep an eye on your API usage. Use https://developers.google.com/maps/reporting/gmp-reporting as reference for how to monitor your usage and billing.\n",
    "\n",
    "* Instructions have been included for each segment. You do not have to follow them exactly, but they are included to help you think through the steps."
   ]
  },
  {
   "cell_type": "code",
   "execution_count": 1,
   "metadata": {},
   "outputs": [],
   "source": [
    "# Dependencies and Setup\n",
    "import matplotlib.pyplot as plt\n",
    "import pandas as pd\n",
    "import numpy as np\n",
    "import requests\n",
    "import gmaps\n",
    "import os\n",
    "\n",
    "# Import API key\n",
    "from api_keys import g_key"
   ]
  },
  {
   "cell_type": "markdown",
   "metadata": {},
   "source": [
    "### Store Part I results into DataFrame\n",
    "* Load the csv exported in Part I to a DataFrame"
   ]
  },
  {
   "cell_type": "code",
   "execution_count": 15,
   "metadata": {},
   "outputs": [
    {
     "data": {
      "text/html": [
       "<div>\n",
       "<style scoped>\n",
       "    .dataframe tbody tr th:only-of-type {\n",
       "        vertical-align: middle;\n",
       "    }\n",
       "\n",
       "    .dataframe tbody tr th {\n",
       "        vertical-align: top;\n",
       "    }\n",
       "\n",
       "    .dataframe thead th {\n",
       "        text-align: right;\n",
       "    }\n",
       "</style>\n",
       "<table border=\"1\" class=\"dataframe\">\n",
       "  <thead>\n",
       "    <tr style=\"text-align: right;\">\n",
       "      <th></th>\n",
       "      <th>City</th>\n",
       "      <th>Latitude</th>\n",
       "      <th>Longitude</th>\n",
       "      <th>Max Temperature</th>\n",
       "      <th>Humidity</th>\n",
       "      <th>Cloudiness</th>\n",
       "      <th>Wind Speed</th>\n",
       "      <th>Country</th>\n",
       "      <th>Date</th>\n",
       "    </tr>\n",
       "  </thead>\n",
       "  <tbody>\n",
       "    <tr>\n",
       "      <th>0</th>\n",
       "      <td>Atuona</td>\n",
       "      <td>-9.8000</td>\n",
       "      <td>-139.0333</td>\n",
       "      <td>76.53</td>\n",
       "      <td>78</td>\n",
       "      <td>30</td>\n",
       "      <td>17.25</td>\n",
       "      <td>PF</td>\n",
       "      <td>1665826901</td>\n",
       "    </tr>\n",
       "    <tr>\n",
       "      <th>1</th>\n",
       "      <td>Leningradskiy</td>\n",
       "      <td>69.3833</td>\n",
       "      <td>178.4167</td>\n",
       "      <td>11.12</td>\n",
       "      <td>86</td>\n",
       "      <td>71</td>\n",
       "      <td>5.26</td>\n",
       "      <td>RU</td>\n",
       "      <td>1665826902</td>\n",
       "    </tr>\n",
       "    <tr>\n",
       "      <th>2</th>\n",
       "      <td>Busselton</td>\n",
       "      <td>-33.6500</td>\n",
       "      <td>115.3333</td>\n",
       "      <td>57.85</td>\n",
       "      <td>65</td>\n",
       "      <td>20</td>\n",
       "      <td>13.06</td>\n",
       "      <td>AU</td>\n",
       "      <td>1665826902</td>\n",
       "    </tr>\n",
       "    <tr>\n",
       "      <th>3</th>\n",
       "      <td>Vaini</td>\n",
       "      <td>-21.2000</td>\n",
       "      <td>-175.2000</td>\n",
       "      <td>69.96</td>\n",
       "      <td>100</td>\n",
       "      <td>20</td>\n",
       "      <td>2.30</td>\n",
       "      <td>TO</td>\n",
       "      <td>1665826902</td>\n",
       "    </tr>\n",
       "    <tr>\n",
       "      <th>4</th>\n",
       "      <td>Albany</td>\n",
       "      <td>42.6001</td>\n",
       "      <td>-73.9662</td>\n",
       "      <td>41.54</td>\n",
       "      <td>90</td>\n",
       "      <td>4</td>\n",
       "      <td>0.92</td>\n",
       "      <td>US</td>\n",
       "      <td>1665826902</td>\n",
       "    </tr>\n",
       "  </tbody>\n",
       "</table>\n",
       "</div>"
      ],
      "text/plain": [
       "            City  Latitude  Longitude  Max Temperature  Humidity  Cloudiness  \\\n",
       "0         Atuona   -9.8000  -139.0333            76.53        78          30   \n",
       "1  Leningradskiy   69.3833   178.4167            11.12        86          71   \n",
       "2      Busselton  -33.6500   115.3333            57.85        65          20   \n",
       "3          Vaini  -21.2000  -175.2000            69.96       100          20   \n",
       "4         Albany   42.6001   -73.9662            41.54        90           4   \n",
       "\n",
       "   Wind Speed Country        Date  \n",
       "0       17.25      PF  1665826901  \n",
       "1        5.26      RU  1665826902  \n",
       "2       13.06      AU  1665826902  \n",
       "3        2.30      TO  1665826902  \n",
       "4        0.92      US  1665826902  "
      ]
     },
     "execution_count": 15,
     "metadata": {},
     "output_type": "execute_result"
    }
   ],
   "source": [
    "df = pd.read_csv(\"../output_data/cities.csv\")\n",
    "df.head()"
   ]
  },
  {
   "cell_type": "markdown",
   "metadata": {},
   "source": [
    "### Humidity Heatmap\n",
    "* Configure gmaps.\n",
    "* Use the Lat and Lng as locations and Humidity as the weight.\n",
    "* Add Heatmap layer to map."
   ]
  },
  {
   "cell_type": "code",
   "execution_count": 3,
   "metadata": {},
   "outputs": [
    {
     "data": {
      "text/plain": [
       "Index(['City', 'Latitude', 'Longitude', 'Max Temperature', 'Humidity',\n",
       "       'Cloudiness', 'Wind Speed', 'Country', 'Date'],\n",
       "      dtype='object')"
      ]
     },
     "execution_count": 3,
     "metadata": {},
     "output_type": "execute_result"
    }
   ],
   "source": [
    "df.columns"
   ]
  },
  {
   "cell_type": "code",
   "execution_count": 3,
   "metadata": {},
   "outputs": [
    {
     "data": {
      "application/vnd.jupyter.widget-view+json": {
       "model_id": "a2f7402684c245c1ad0459ab1c208d0e",
       "version_major": 2,
       "version_minor": 0
      },
      "text/plain": [
       "Figure(layout=FigureLayout(height='420px'))"
      ]
     },
     "metadata": {},
     "output_type": "display_data"
    }
   ],
   "source": [
    "# Configure gmaps\n",
    "gmaps.configure(api_key = g_key)\n",
    "\n",
    "# Use the Lat and Lng as locations and Humidity as the weight\n",
    "locations = df[[\"Latitude\", \"Longitude\"]]\n",
    "weight = df[\"Humidity\"]\n",
    "\n",
    "# Add a Heatmap layer to map\n",
    "fig = gmaps.figure(center = (0, 0), zoom_level = 1)\n",
    "heatmap_layer = gmaps.heatmap_layer(locations, weights = weight)\n",
    "fig.add_layer(heatmap_layer)\n",
    "fig"
   ]
  },
  {
   "cell_type": "markdown",
   "metadata": {},
   "source": [
    "### Create new DataFrame fitting weather criteria\n",
    "* Narrow down the cities to fit weather conditions:\n",
    "1. A max temperature lower than 80 degrees but higher than 70\n",
    "2. Wind speed less than 10 mph\n",
    "3. Zero cloudiness\n",
    "4. Humidity is less than 30\n",
    "* Drop any rows with null values."
   ]
  },
  {
   "cell_type": "code",
   "execution_count": 11,
   "metadata": {},
   "outputs": [
    {
     "data": {
      "text/plain": [
       "Index(['City', 'Latitude', 'Longitude', 'Max Temperature', 'Humidity',\n",
       "       'Cloudiness', 'Wind Speed', 'Country', 'Date'],\n",
       "      dtype='object')"
      ]
     },
     "execution_count": 11,
     "metadata": {},
     "output_type": "execute_result"
    }
   ],
   "source": [
    "df.columns"
   ]
  },
  {
   "cell_type": "code",
   "execution_count": 16,
   "metadata": {},
   "outputs": [
    {
     "name": "stdout",
     "output_type": "stream",
     "text": [
      "<class 'pandas.core.frame.DataFrame'>\n",
      "RangeIndex: 215 entries, 0 to 214\n",
      "Data columns (total 9 columns):\n",
      " #   Column           Non-Null Count  Dtype  \n",
      "---  ------           --------------  -----  \n",
      " 0   City             215 non-null    object \n",
      " 1   Latitude         215 non-null    float64\n",
      " 2   Longitude        215 non-null    float64\n",
      " 3   Max Temperature  215 non-null    float64\n",
      " 4   Humidity         215 non-null    int64  \n",
      " 5   Cloudiness       215 non-null    int64  \n",
      " 6   Wind Speed       215 non-null    float64\n",
      " 7   Country          213 non-null    object \n",
      " 8   Date             215 non-null    int64  \n",
      "dtypes: float64(4), int64(3), object(2)\n",
      "memory usage: 15.2+ KB\n"
     ]
    }
   ],
   "source": [
    "df.info()"
   ]
  },
  {
   "cell_type": "code",
   "execution_count": 18,
   "metadata": {},
   "outputs": [
    {
     "data": {
      "text/html": [
       "<div>\n",
       "<style scoped>\n",
       "    .dataframe tbody tr th:only-of-type {\n",
       "        vertical-align: middle;\n",
       "    }\n",
       "\n",
       "    .dataframe tbody tr th {\n",
       "        vertical-align: top;\n",
       "    }\n",
       "\n",
       "    .dataframe thead th {\n",
       "        text-align: right;\n",
       "    }\n",
       "</style>\n",
       "<table border=\"1\" class=\"dataframe\">\n",
       "  <thead>\n",
       "    <tr style=\"text-align: right;\">\n",
       "      <th></th>\n",
       "      <th>City</th>\n",
       "      <th>Latitude</th>\n",
       "      <th>Longitude</th>\n",
       "      <th>Max Temperature</th>\n",
       "      <th>Humidity</th>\n",
       "      <th>Cloudiness</th>\n",
       "      <th>Wind Speed</th>\n",
       "      <th>Country</th>\n",
       "      <th>Date</th>\n",
       "    </tr>\n",
       "  </thead>\n",
       "  <tbody>\n",
       "    <tr>\n",
       "      <th>0</th>\n",
       "      <td>Atuona</td>\n",
       "      <td>-9.8000</td>\n",
       "      <td>-139.0333</td>\n",
       "      <td>76.53</td>\n",
       "      <td>78</td>\n",
       "      <td>30</td>\n",
       "      <td>17.25</td>\n",
       "      <td>PF</td>\n",
       "      <td>1665826901</td>\n",
       "    </tr>\n",
       "    <tr>\n",
       "      <th>1</th>\n",
       "      <td>Leningradskiy</td>\n",
       "      <td>69.3833</td>\n",
       "      <td>178.4167</td>\n",
       "      <td>11.12</td>\n",
       "      <td>86</td>\n",
       "      <td>71</td>\n",
       "      <td>5.26</td>\n",
       "      <td>RU</td>\n",
       "      <td>1665826902</td>\n",
       "    </tr>\n",
       "    <tr>\n",
       "      <th>2</th>\n",
       "      <td>Busselton</td>\n",
       "      <td>-33.6500</td>\n",
       "      <td>115.3333</td>\n",
       "      <td>57.85</td>\n",
       "      <td>65</td>\n",
       "      <td>20</td>\n",
       "      <td>13.06</td>\n",
       "      <td>AU</td>\n",
       "      <td>1665826902</td>\n",
       "    </tr>\n",
       "    <tr>\n",
       "      <th>3</th>\n",
       "      <td>Vaini</td>\n",
       "      <td>-21.2000</td>\n",
       "      <td>-175.2000</td>\n",
       "      <td>69.96</td>\n",
       "      <td>100</td>\n",
       "      <td>20</td>\n",
       "      <td>2.30</td>\n",
       "      <td>TO</td>\n",
       "      <td>1665826902</td>\n",
       "    </tr>\n",
       "    <tr>\n",
       "      <th>4</th>\n",
       "      <td>Albany</td>\n",
       "      <td>42.6001</td>\n",
       "      <td>-73.9662</td>\n",
       "      <td>41.54</td>\n",
       "      <td>90</td>\n",
       "      <td>4</td>\n",
       "      <td>0.92</td>\n",
       "      <td>US</td>\n",
       "      <td>1665826902</td>\n",
       "    </tr>\n",
       "  </tbody>\n",
       "</table>\n",
       "</div>"
      ],
      "text/plain": [
       "            City  Latitude  Longitude  Max Temperature  Humidity  Cloudiness  \\\n",
       "0         Atuona   -9.8000  -139.0333            76.53        78          30   \n",
       "1  Leningradskiy   69.3833   178.4167            11.12        86          71   \n",
       "2      Busselton  -33.6500   115.3333            57.85        65          20   \n",
       "3          Vaini  -21.2000  -175.2000            69.96       100          20   \n",
       "4         Albany   42.6001   -73.9662            41.54        90           4   \n",
       "\n",
       "   Wind Speed Country        Date  \n",
       "0       17.25      PF  1665826901  \n",
       "1        5.26      RU  1665826902  \n",
       "2       13.06      AU  1665826902  \n",
       "3        2.30      TO  1665826902  \n",
       "4        0.92      US  1665826902  "
      ]
     },
     "execution_count": 18,
     "metadata": {},
     "output_type": "execute_result"
    }
   ],
   "source": [
    "df.head()"
   ]
  },
  {
   "cell_type": "code",
   "execution_count": 73,
   "metadata": {},
   "outputs": [
    {
     "name": "stdout",
     "output_type": "stream",
     "text": [
      "<class 'pandas.core.frame.DataFrame'>\n",
      "Int64Index: 0 entries\n",
      "Data columns (total 9 columns):\n",
      " #   Column           Non-Null Count  Dtype  \n",
      "---  ------           --------------  -----  \n",
      " 0   City             0 non-null      object \n",
      " 1   Latitude         0 non-null      float64\n",
      " 2   Longitude        0 non-null      float64\n",
      " 3   Max Temperature  0 non-null      float64\n",
      " 4   Humidity         0 non-null      int64  \n",
      " 5   Cloudiness       0 non-null      int64  \n",
      " 6   Wind Speed       0 non-null      float64\n",
      " 7   Country          0 non-null      object \n",
      " 8   Date             0 non-null      int64  \n",
      "dtypes: float64(4), int64(3), object(2)\n",
      "memory usage: 0.0+ bytes\n",
      "These ideal weather conditions were too narrow for the existing data set\n"
     ]
    },
    {
     "data": {
      "text/html": [
       "<div>\n",
       "<style scoped>\n",
       "    .dataframe tbody tr th:only-of-type {\n",
       "        vertical-align: middle;\n",
       "    }\n",
       "\n",
       "    .dataframe tbody tr th {\n",
       "        vertical-align: top;\n",
       "    }\n",
       "\n",
       "    .dataframe thead th {\n",
       "        text-align: right;\n",
       "    }\n",
       "</style>\n",
       "<table border=\"1\" class=\"dataframe\">\n",
       "  <thead>\n",
       "    <tr style=\"text-align: right;\">\n",
       "      <th></th>\n",
       "      <th>City</th>\n",
       "      <th>Latitude</th>\n",
       "      <th>Longitude</th>\n",
       "      <th>Max Temperature</th>\n",
       "      <th>Humidity</th>\n",
       "      <th>Cloudiness</th>\n",
       "      <th>Wind Speed</th>\n",
       "      <th>Country</th>\n",
       "      <th>Date</th>\n",
       "    </tr>\n",
       "  </thead>\n",
       "  <tbody>\n",
       "  </tbody>\n",
       "</table>\n",
       "</div>"
      ],
      "text/plain": [
       "Empty DataFrame\n",
       "Columns: [City, Latitude, Longitude, Max Temperature, Humidity, Cloudiness, Wind Speed, Country, Date]\n",
       "Index: []"
      ]
     },
     "execution_count": 73,
     "metadata": {},
     "output_type": "execute_result"
    }
   ],
   "source": [
    "# Narrow down ideal weather conditions\n",
    "ideal_temp = (df[\"Max Temperature\"] < 80) & (df[\"Max Temperature\"] > 70)\n",
    "ideal_wind = (df[\"Wind Speed\"] < 10)\n",
    "ideal_cloud = (df[\"Cloudiness\"] == 0)\n",
    "ideal_humidity = (df[\"Humidity\"] < 30)\n",
    "ideal_weather = df.loc[ideal_temp & ideal_wind & ideal_cloud & ideal_humidity]\n",
    "\n",
    "ideal_weather.info()\n",
    "print(\"These ideal weather conditions were too narrow for the existing data set\")\n",
    "ideal_weather"
   ]
  },
  {
   "cell_type": "code",
   "execution_count": 74,
   "metadata": {},
   "outputs": [
    {
     "name": "stdout",
     "output_type": "stream",
     "text": [
      "<class 'pandas.core.frame.DataFrame'>\n",
      "Int64Index: 3 entries, 26 to 98\n",
      "Data columns (total 9 columns):\n",
      " #   Column           Non-Null Count  Dtype  \n",
      "---  ------           --------------  -----  \n",
      " 0   City             3 non-null      object \n",
      " 1   Latitude         3 non-null      float64\n",
      " 2   Longitude        3 non-null      float64\n",
      " 3   Max Temperature  3 non-null      float64\n",
      " 4   Humidity         3 non-null      int64  \n",
      " 5   Cloudiness       3 non-null      int64  \n",
      " 6   Wind Speed       3 non-null      float64\n",
      " 7   Country          3 non-null      object \n",
      " 8   Date             3 non-null      int64  \n",
      "dtypes: float64(4), int64(3), object(2)\n",
      "memory usage: 240.0+ bytes\n"
     ]
    },
    {
     "data": {
      "text/html": [
       "<div>\n",
       "<style scoped>\n",
       "    .dataframe tbody tr th:only-of-type {\n",
       "        vertical-align: middle;\n",
       "    }\n",
       "\n",
       "    .dataframe tbody tr th {\n",
       "        vertical-align: top;\n",
       "    }\n",
       "\n",
       "    .dataframe thead th {\n",
       "        text-align: right;\n",
       "    }\n",
       "</style>\n",
       "<table border=\"1\" class=\"dataframe\">\n",
       "  <thead>\n",
       "    <tr style=\"text-align: right;\">\n",
       "      <th></th>\n",
       "      <th>City</th>\n",
       "      <th>Latitude</th>\n",
       "      <th>Longitude</th>\n",
       "      <th>Max Temperature</th>\n",
       "      <th>Humidity</th>\n",
       "      <th>Cloudiness</th>\n",
       "      <th>Wind Speed</th>\n",
       "      <th>Country</th>\n",
       "      <th>Date</th>\n",
       "    </tr>\n",
       "  </thead>\n",
       "  <tbody>\n",
       "    <tr>\n",
       "      <th>26</th>\n",
       "      <td>Zomba</td>\n",
       "      <td>-15.3860</td>\n",
       "      <td>35.3188</td>\n",
       "      <td>84.09</td>\n",
       "      <td>19</td>\n",
       "      <td>0</td>\n",
       "      <td>7.92</td>\n",
       "      <td>MW</td>\n",
       "      <td>1665826906</td>\n",
       "    </tr>\n",
       "    <tr>\n",
       "      <th>89</th>\n",
       "      <td>Phalaborwa</td>\n",
       "      <td>-23.9430</td>\n",
       "      <td>31.1411</td>\n",
       "      <td>79.88</td>\n",
       "      <td>27</td>\n",
       "      <td>4</td>\n",
       "      <td>12.35</td>\n",
       "      <td>ZA</td>\n",
       "      <td>1665826917</td>\n",
       "    </tr>\n",
       "    <tr>\n",
       "      <th>98</th>\n",
       "      <td>Bo`ka</td>\n",
       "      <td>40.8108</td>\n",
       "      <td>69.1986</td>\n",
       "      <td>82.69</td>\n",
       "      <td>9</td>\n",
       "      <td>13</td>\n",
       "      <td>3.85</td>\n",
       "      <td>UZ</td>\n",
       "      <td>1665826918</td>\n",
       "    </tr>\n",
       "  </tbody>\n",
       "</table>\n",
       "</div>"
      ],
      "text/plain": [
       "          City  Latitude  Longitude  Max Temperature  Humidity  Cloudiness  \\\n",
       "26       Zomba  -15.3860    35.3188            84.09        19           0   \n",
       "89  Phalaborwa  -23.9430    31.1411            79.88        27           4   \n",
       "98       Bo`ka   40.8108    69.1986            82.69         9          13   \n",
       "\n",
       "    Wind Speed Country        Date  \n",
       "26        7.92      MW  1665826906  \n",
       "89       12.35      ZA  1665826917  \n",
       "98        3.85      UZ  1665826918  "
      ]
     },
     "execution_count": 74,
     "metadata": {},
     "output_type": "execute_result"
    }
   ],
   "source": [
    "# Narrow down ideal weather conditions\n",
    "ideal_temp = (df[\"Max Temperature\"] <= 90) & (df[\"Max Temperature\"] >= 60)\n",
    "ideal_wind = (df[\"Wind Speed\"] <= 30)\n",
    "ideal_cloud = (df[\"Cloudiness\"] <= 30)\n",
    "ideal_humidity = (df[\"Humidity\"] <= 30)\n",
    "ideal_weather = df.loc[ideal_temp & ideal_wind & ideal_cloud & ideal_humidity]\n",
    "\n",
    "# ideal_df = df.loc[(df[\"Wind Speed\"] <= 10)][(df[\"Cloudiness\"] == 0)][(df[\"Max Temperature\"] < 80)][(df[\"Max Temperature\"] > 70)][(df[\"Humidity\"] < 30)].dropna()\n",
    "\n",
    "# Drop null values\n",
    "ideal_weather = ideal_weather.dropna()\n",
    "\n",
    "ideal_weather.info()\n",
    "ideal_weather"
   ]
  },
  {
   "cell_type": "markdown",
   "metadata": {},
   "source": [
    "### Hotel Map\n",
    "* Store into variable named `hotel_df`.\n",
    "* Add a \"Hotel Name\" column to the DataFrame.\n",
    "* Set parameters to search for hotels with 5000 meters.\n",
    "* Hit the Google Places API for each city's coordinates.\n",
    "* Store the first Hotel result into the DataFrame.\n",
    "* Plot markers on top of the heatmap."
   ]
  },
  {
   "cell_type": "code",
   "execution_count": 75,
   "metadata": {},
   "outputs": [
    {
     "name": "stdout",
     "output_type": "stream",
     "text": [
      "<class 'pandas.core.frame.DataFrame'>\n",
      "Int64Index: 3 entries, 26 to 98\n",
      "Data columns (total 10 columns):\n",
      " #   Column           Non-Null Count  Dtype  \n",
      "---  ------           --------------  -----  \n",
      " 0   City             3 non-null      object \n",
      " 1   Latitude         3 non-null      float64\n",
      " 2   Longitude        3 non-null      float64\n",
      " 3   Max Temperature  3 non-null      float64\n",
      " 4   Humidity         3 non-null      int64  \n",
      " 5   Cloudiness       3 non-null      int64  \n",
      " 6   Wind Speed       3 non-null      float64\n",
      " 7   Country          3 non-null      object \n",
      " 8   Date             3 non-null      int64  \n",
      " 9   Hotel Name       3 non-null      object \n",
      "dtypes: float64(4), int64(3), object(3)\n",
      "memory usage: 264.0+ bytes\n"
     ]
    },
    {
     "data": {
      "text/html": [
       "<div>\n",
       "<style scoped>\n",
       "    .dataframe tbody tr th:only-of-type {\n",
       "        vertical-align: middle;\n",
       "    }\n",
       "\n",
       "    .dataframe tbody tr th {\n",
       "        vertical-align: top;\n",
       "    }\n",
       "\n",
       "    .dataframe thead th {\n",
       "        text-align: right;\n",
       "    }\n",
       "</style>\n",
       "<table border=\"1\" class=\"dataframe\">\n",
       "  <thead>\n",
       "    <tr style=\"text-align: right;\">\n",
       "      <th></th>\n",
       "      <th>City</th>\n",
       "      <th>Latitude</th>\n",
       "      <th>Longitude</th>\n",
       "      <th>Max Temperature</th>\n",
       "      <th>Humidity</th>\n",
       "      <th>Cloudiness</th>\n",
       "      <th>Wind Speed</th>\n",
       "      <th>Country</th>\n",
       "      <th>Date</th>\n",
       "      <th>Hotel Name</th>\n",
       "    </tr>\n",
       "  </thead>\n",
       "  <tbody>\n",
       "    <tr>\n",
       "      <th>26</th>\n",
       "      <td>Zomba</td>\n",
       "      <td>-15.3860</td>\n",
       "      <td>35.3188</td>\n",
       "      <td>84.09</td>\n",
       "      <td>19</td>\n",
       "      <td>0</td>\n",
       "      <td>7.92</td>\n",
       "      <td>MW</td>\n",
       "      <td>1665826906</td>\n",
       "      <td></td>\n",
       "    </tr>\n",
       "    <tr>\n",
       "      <th>89</th>\n",
       "      <td>Phalaborwa</td>\n",
       "      <td>-23.9430</td>\n",
       "      <td>31.1411</td>\n",
       "      <td>79.88</td>\n",
       "      <td>27</td>\n",
       "      <td>4</td>\n",
       "      <td>12.35</td>\n",
       "      <td>ZA</td>\n",
       "      <td>1665826917</td>\n",
       "      <td></td>\n",
       "    </tr>\n",
       "    <tr>\n",
       "      <th>98</th>\n",
       "      <td>Bo`ka</td>\n",
       "      <td>40.8108</td>\n",
       "      <td>69.1986</td>\n",
       "      <td>82.69</td>\n",
       "      <td>9</td>\n",
       "      <td>13</td>\n",
       "      <td>3.85</td>\n",
       "      <td>UZ</td>\n",
       "      <td>1665826918</td>\n",
       "      <td></td>\n",
       "    </tr>\n",
       "  </tbody>\n",
       "</table>\n",
       "</div>"
      ],
      "text/plain": [
       "          City  Latitude  Longitude  Max Temperature  Humidity  Cloudiness  \\\n",
       "26       Zomba  -15.3860    35.3188            84.09        19           0   \n",
       "89  Phalaborwa  -23.9430    31.1411            79.88        27           4   \n",
       "98       Bo`ka   40.8108    69.1986            82.69         9          13   \n",
       "\n",
       "    Wind Speed Country        Date Hotel Name  \n",
       "26        7.92      MW  1665826906             \n",
       "89       12.35      ZA  1665826917             \n",
       "98        3.85      UZ  1665826918             "
      ]
     },
     "execution_count": 75,
     "metadata": {},
     "output_type": "execute_result"
    }
   ],
   "source": [
    "# store into variable name hotel_df\n",
    "hotel_df = ideal_weather\n",
    "\n",
    "# add \"Hotel Name\" column\n",
    "hotel_df[\"Hotel Name\"] = \"\"\n",
    "\n",
    "hotel_df.info()\n",
    "hotel_df"
   ]
  },
  {
   "cell_type": "code",
   "execution_count": 89,
   "metadata": {},
   "outputs": [
    {
     "name": "stdout",
     "output_type": "stream",
     "text": [
      "Missing information... skipping.\n",
      "---\n",
      "Missing information... skipping.\n",
      "---\n",
      "Missing information... skipping.\n",
      "---\n"
     ]
    }
   ],
   "source": [
    "# Set parameters to search for hotels with 5000 meters\n",
    "Lat = hotel_df[\"Latitude\"]\n",
    "Lng = hotel_df[\"Longitude\"]\n",
    "coords = (f\"({Lat},{Lng})\")\n",
    "city = hotel_df[\"City\"]\n",
    "\n",
    "\n",
    "# Hit the Google Places API for each city's coordinates.\n",
    "for index, row in hotel_df.iterrows():\n",
    "    lat = row[\"Latitude\"]\n",
    "    lng = row[\"Longitude\"]\n",
    "    city = row[\"City\"]\n",
    "\n",
    "    parameters = {\n",
    "    \"key\": g_key,\n",
    "    \"radius\": 5000,\n",
    "    \"location\": coords,\n",
    "    \"type\": \"lodging\"\n",
    "   }\n",
    "\n",
    "    url = \"https://maps.googleapis.com/maps/api/place/nearbysearch/json\"\n",
    "    response_json = requests.get(url, params = parameters).json()\n",
    "\n",
    "    # hotel_df.loc[index, \"Hotel Name\"] = response[\"results\"][0][\"name\"]\n",
    "\n",
    "    # Store the first Hotel result into the DataFrame.\n",
    "    try:\n",
    "        print(f\"The first closest hotel to : {city}\")\n",
    "        hotel_df.loc[index, \"Hotel Name\"] = response_json[\"results\"][0][\"name\"]\n",
    "    except (KeyError, IndexError):\n",
    "        print(\"Missing information... skipping.\")\n",
    "    print(\"---\")"
   ]
  },
  {
   "cell_type": "code",
   "execution_count": 69,
   "metadata": {},
   "outputs": [],
   "source": [
    "# Plot markers on top of the heatmap"
   ]
  },
  {
   "cell_type": "code",
   "execution_count": null,
   "metadata": {},
   "outputs": [],
   "source": [
    "# NOTE: Do not change any of the code in this cell\n",
    "\n",
    "# Using the template add the hotel marks to the heatmap\n",
    "info_box_template = \"\"\"\n",
    "<dl>\n",
    "<dt>Name</dt><dd>{Hotel Name}</dd>\n",
    "<dt>City</dt><dd>{City}</dd>\n",
    "<dt>Country</dt><dd>{Country}</dd>\n",
    "</dl>\n",
    "\"\"\"\n",
    "# Store the DataFrame Row\n",
    "# NOTE: be sure to update with your DataFrame name\n",
    "hotel_info = [info_box_template.format(**row) for index, row in hotel_df.iterrows()]\n",
    "locations = hotel_df[[\"Lat\", \"Lng\"]]"
   ]
  },
  {
   "cell_type": "code",
   "execution_count": null,
   "metadata": {},
   "outputs": [],
   "source": [
    "# Add marker layer ontop of heat map\n",
    "\n",
    "\n",
    "# Display figure\n"
   ]
  },
  {
   "cell_type": "code",
   "execution_count": null,
   "metadata": {},
   "outputs": [],
   "source": []
  }
 ],
 "metadata": {
  "kernelspec": {
   "display_name": "Python 3.9.12 ('base')",
   "language": "python",
   "name": "python3"
  },
  "language_info": {
   "codemirror_mode": {
    "name": "ipython",
    "version": 3
   },
   "file_extension": ".py",
   "mimetype": "text/x-python",
   "name": "python",
   "nbconvert_exporter": "python",
   "pygments_lexer": "ipython3",
   "version": "3.9.12"
  },
  "latex_envs": {
   "LaTeX_envs_menu_present": true,
   "autoclose": false,
   "autocomplete": true,
   "bibliofile": "biblio.bib",
   "cite_by": "apalike",
   "current_citInitial": 1,
   "eqLabelWithNumbers": true,
   "eqNumInitial": 1,
   "hotkeys": {
    "equation": "Ctrl-E",
    "itemize": "Ctrl-I"
   },
   "labels_anchors": false,
   "latex_user_defs": false,
   "report_style_numbering": false,
   "user_envs_cfg": false
  },
  "vscode": {
   "interpreter": {
    "hash": "8e0fdfd51b4c5792472ba286f860d66cf33e36862291742ec9bd59fc28066e88"
   }
  }
 },
 "nbformat": 4,
 "nbformat_minor": 4
}
