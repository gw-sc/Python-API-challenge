{
 "cells": [
  {
   "cell_type": "markdown",
   "metadata": {},
   "source": [
    "# WeatherPy\n",
    "----\n",
    "\n",
    "#### Note\n",
    "* Instructions have been included for each segment. You do not have to follow them exactly, but they are included to help you think through the steps."
   ]
  },
  {
   "cell_type": "code",
   "execution_count": 1,
   "metadata": {
    "scrolled": true
   },
   "outputs": [],
   "source": [
    "# Dependencies and Setup\n",
    "import matplotlib.pyplot as plt\n",
    "import pandas as pd\n",
    "import numpy as np\n",
    "import requests\n",
    "import time\n",
    "from scipy.stats import linregress\n",
    "\n",
    "# Import API key\n",
    "from api_keys import weather_api_key\n",
    "\n",
    "# Incorporated citipy to determine city based on latitude and longitude\n",
    "from citipy import citipy\n",
    "\n",
    "# Output File (CSV)\n",
    "output_data_file = \"output_data/cities.csv\"\n",
    "\n",
    "# Range of latitudes and longitudes\n",
    "lat_range = (-90, 90)\n",
    "lng_range = (-180, 180)"
   ]
  },
  {
   "cell_type": "markdown",
   "metadata": {},
   "source": [
    "## Generate Cities List"
   ]
  },
  {
   "cell_type": "code",
   "execution_count": 2,
   "metadata": {},
   "outputs": [
    {
     "data": {
      "text/plain": [
       "621"
      ]
     },
     "execution_count": 2,
     "metadata": {},
     "output_type": "execute_result"
    }
   ],
   "source": [
    "# List for holding lat_lngs and cities\n",
    "lat_lngs = []\n",
    "cities = []\n",
    "\n",
    "# Create a set of random lat and lng combinations\n",
    "lats = np.random.uniform(lat_range[0], lat_range[1], size=1500)\n",
    "lngs = np.random.uniform(lng_range[0], lng_range[1], size=1500)\n",
    "lat_lngs = zip(lats, lngs)\n",
    "\n",
    "# Identify nearest city for each lat, lng combination\n",
    "for lat_lng in lat_lngs:\n",
    "    city = citipy.nearest_city(lat_lng[0], lat_lng[1]).city_name\n",
    "    \n",
    "    # If the city is unique, then add it to a our cities list\n",
    "    if city not in cities:\n",
    "        cities.append(city)\n",
    "\n",
    "# Print the city count to confirm sufficient count\n",
    "len(cities)"
   ]
  },
  {
   "cell_type": "code",
   "execution_count": 3,
   "metadata": {},
   "outputs": [
    {
     "data": {
      "text/plain": [
       "['atuona',\n",
       " 'leningradskiy',\n",
       " 'busselton',\n",
       " 'vaini',\n",
       " 'albany',\n",
       " 'carnarvon',\n",
       " 'laguna',\n",
       " 'ushuaia',\n",
       " 'hobart',\n",
       " 'empalme',\n",
       " 'inuvik',\n",
       " 'puerto ayora',\n",
       " 'isla vista',\n",
       " 'dikson',\n",
       " 'rikitea',\n",
       " 'new norfolk',\n",
       " 'benjamin constant',\n",
       " 'mirabela',\n",
       " 'bengkulu',\n",
       " 'iqaluit',\n",
       " 'matinha',\n",
       " 'hostotipaquillo',\n",
       " 'kapaa',\n",
       " 'necochea',\n",
       " 'valle del guamuez',\n",
       " 'viligili',\n",
       " 'arlit',\n",
       " 'zomba',\n",
       " 'mys shmidta',\n",
       " 'xihe',\n",
       " 'constitucion',\n",
       " 'tuktoyaktuk',\n",
       " 'mildura',\n",
       " 'kropotkin',\n",
       " 'lompoc',\n",
       " 'thompson',\n",
       " 'barrow',\n",
       " 'taunggyi',\n",
       " 'naze',\n",
       " 'hobyo',\n",
       " 'artyom',\n",
       " 'port elizabeth',\n",
       " 'belushya guba',\n",
       " 'honningsvag',\n",
       " 'hilo',\n",
       " 'tazovskiy',\n",
       " 'svetlogorsk',\n",
       " 'ixtapa',\n",
       " 'djibo',\n",
       " 'camargo',\n",
       " 'nantucket',\n",
       " 'tuatapere',\n",
       " 'kahului',\n",
       " 'linqing',\n",
       " 'mar del plata',\n",
       " 'sorland',\n",
       " 'airai',\n",
       " 'nadvoitsy',\n",
       " 'hermanus',\n",
       " 'seoul',\n",
       " 'ishigaki',\n",
       " 'cidreira',\n",
       " 'montelimar',\n",
       " 'kibre mengist',\n",
       " 'lavrentiya',\n",
       " 'vao',\n",
       " 'vicuna',\n",
       " 'namatanai',\n",
       " 'punta arenas',\n",
       " 'saint-philippe',\n",
       " 'bloomfield',\n",
       " 'bluff',\n",
       " 'yellowknife',\n",
       " 'praya',\n",
       " 'port alfred',\n",
       " 'san alberto',\n",
       " 'ostrovnoy',\n",
       " 'khatanga',\n",
       " 'saint-paul',\n",
       " 'la ronge',\n",
       " 'westport',\n",
       " 'severodvinsk',\n",
       " 'mpongwe',\n",
       " 'coquimbo',\n",
       " 'finspang',\n",
       " 'kailua',\n",
       " 'hithadhoo',\n",
       " 'provideniya',\n",
       " 'tasiilaq',\n",
       " 'nanortalik',\n",
       " 'esperance',\n",
       " 'bilibino',\n",
       " 'phalaborwa',\n",
       " 'bheramara',\n",
       " 'mbandaka',\n",
       " 'bad windsheim',\n",
       " 'charleville-mezieres',\n",
       " 'taolanaro',\n",
       " 'chuy',\n",
       " 'potsdam',\n",
       " 'arraial do cabo',\n",
       " 'qaanaaq',\n",
       " 'buka',\n",
       " 'saskylakh',\n",
       " 'palmas bellas',\n",
       " 'sao joao da barra',\n",
       " 'poum',\n",
       " 'bredasdorp',\n",
       " 'bud',\n",
       " 'butaritari',\n",
       " 'aklavik',\n",
       " 'nikolskoye',\n",
       " 'toamasina',\n",
       " 'liaqatabad',\n",
       " 'floro',\n",
       " 'vitry-le-francois',\n",
       " 'auki',\n",
       " 'businga',\n",
       " 'beringovskiy',\n",
       " 'barcelos',\n",
       " 'hasaki',\n",
       " 'sentyabrskiy',\n",
       " 'lebu',\n",
       " 'noshiro',\n",
       " 'port hardy',\n",
       " 'grand island',\n",
       " 'kaitangata',\n",
       " 'hailin',\n",
       " 'douglas',\n",
       " 'cape town',\n",
       " 'monrovia',\n",
       " 'namibe',\n",
       " 'paamiut',\n",
       " 'lakhtar',\n",
       " 'petropavlovsk-kamchatskiy',\n",
       " 'asahikawa',\n",
       " 'cascais',\n",
       " 'ninghai',\n",
       " 'pevek',\n",
       " 'atar',\n",
       " 'kabompo',\n",
       " 'cabo san lucas',\n",
       " 'jonuta',\n",
       " 'boyolangu',\n",
       " 'mount isa',\n",
       " 'eskasem',\n",
       " 'yar-sale',\n",
       " 'luderitz',\n",
       " 'te anau',\n",
       " 'tiksi',\n",
       " 'doha',\n",
       " 'takoradi',\n",
       " 'salalah',\n",
       " 'yashkul',\n",
       " 'east london',\n",
       " 'nouadhibou',\n",
       " 'sinaloa',\n",
       " 'coolum beach',\n",
       " 'ponta do sol',\n",
       " 'andros town',\n",
       " 'muncar',\n",
       " 'bethel',\n",
       " 'tottori',\n",
       " 'mezen',\n",
       " 'jamestown',\n",
       " 'vaitape',\n",
       " 'olafsvik',\n",
       " 'koumac',\n",
       " 'skagastrond',\n",
       " 'qinzhou',\n",
       " 'krasnovishersk',\n",
       " 'zhangye',\n",
       " 'brenham',\n",
       " 'hohhot',\n",
       " 'oranjemund',\n",
       " 'saint anthony',\n",
       " 'ribeira grande',\n",
       " 'beipiao',\n",
       " 'avarua',\n",
       " 'torbay',\n",
       " 'keti bandar',\n",
       " 'mahebourg',\n",
       " 'severo-kurilsk',\n",
       " 'faanui',\n",
       " 'tupik',\n",
       " 'kruisfontein',\n",
       " 'cherskiy',\n",
       " 'nador',\n",
       " 'jeremie',\n",
       " 'mataura',\n",
       " 'eyl',\n",
       " 'vestmannaeyjar',\n",
       " 'karratha',\n",
       " 'filadelfia',\n",
       " 'deputatskiy',\n",
       " 'amderma',\n",
       " 'motygino',\n",
       " 'los llanos de aridane',\n",
       " 'kyabe',\n",
       " 'armacao dos buzios',\n",
       " 'asau',\n",
       " 'krasnoselkup',\n",
       " 'hualmay',\n",
       " 'rethimnon',\n",
       " 'chesma',\n",
       " 'debre sina',\n",
       " 'astoria',\n",
       " 'manbij',\n",
       " 'malazgirt',\n",
       " 'skibbereen',\n",
       " 'bambous virieux',\n",
       " 'neryungri',\n",
       " 'lulea',\n",
       " 'tumannyy',\n",
       " 'grand river south east',\n",
       " 'san cristobal',\n",
       " 'laon',\n",
       " 'geraldton',\n",
       " 'avera',\n",
       " 'boa vista',\n",
       " 'fortuna',\n",
       " 'dese',\n",
       " 'georgetown',\n",
       " 'pecos',\n",
       " 'porto novo',\n",
       " 'solnechnyy',\n",
       " 'noumea',\n",
       " 'touros',\n",
       " 'victoria',\n",
       " 'havre-saint-pierre',\n",
       " 'makakilo city',\n",
       " 'katobu',\n",
       " 'clyde river',\n",
       " 'nsanje',\n",
       " 'jati',\n",
       " 'antofagasta',\n",
       " 'east grinstead',\n",
       " 'chokurdakh',\n",
       " 'yazykovo',\n",
       " 'klaksvik',\n",
       " 'irricana',\n",
       " 'hokitika',\n",
       " 'vardo',\n",
       " 'utinga',\n",
       " 'tomatlan',\n",
       " 'ilulissat',\n",
       " 'ler',\n",
       " 'dargaville',\n",
       " 'san patricio',\n",
       " 'fort dodge',\n",
       " 'iraucuba',\n",
       " 'saint-francois',\n",
       " 'azul',\n",
       " 'sitka',\n",
       " 'nedjo',\n",
       " 'karaul',\n",
       " 'oyotun',\n",
       " 'lake city',\n",
       " 'pisco',\n",
       " 'brae',\n",
       " 'osa',\n",
       " 'barentsburg',\n",
       " 'portland',\n",
       " 'mount gambier',\n",
       " 'nguiu',\n",
       " 'castro',\n",
       " 'linares',\n",
       " 'byron bay',\n",
       " 'saldanha',\n",
       " 'ciudad bolivar',\n",
       " 'babanusah',\n",
       " 'atasu',\n",
       " 'nizhniy tsasuchey',\n",
       " 'akureyri',\n",
       " 'hovd',\n",
       " 'gizo',\n",
       " 'coffs harbour',\n",
       " 'bocaranga',\n",
       " 'lagoa',\n",
       " 'biggar',\n",
       " 'illoqqortoormiut',\n",
       " 'santa luzia',\n",
       " 'mendi',\n",
       " 'longyearbyen',\n",
       " 'trat',\n",
       " 'siverek',\n",
       " 'bidor',\n",
       " 'buchanan',\n",
       " 'urdzhar',\n",
       " 'vaitupu',\n",
       " 'phayao',\n",
       " 'los andes',\n",
       " 'kieta',\n",
       " 'beidao',\n",
       " 'tabialan',\n",
       " 'tingi',\n",
       " 'chiang klang',\n",
       " 'hervey bay',\n",
       " 'tanout',\n",
       " 'hami',\n",
       " 'mayna',\n",
       " 'kristiinankaupunki',\n",
       " 'hailar',\n",
       " 'kanke',\n",
       " 'paradwip',\n",
       " 'santo amaro da imperatriz',\n",
       " 'warqla',\n",
       " 'talnakh',\n",
       " 'sungurlu',\n",
       " 'sao jose da coroa grande',\n",
       " 'osterhofen',\n",
       " 'umm kaddadah',\n",
       " 'upernavik',\n",
       " 'port blair',\n",
       " 'bogorodsk',\n",
       " 'shieli',\n",
       " 'aykhal',\n",
       " 'gidam',\n",
       " 'peikang',\n",
       " 'esil',\n",
       " 'boppard',\n",
       " 'kautokeino',\n",
       " 'kirs',\n",
       " 'benguela',\n",
       " 'mezhdurechenskiy',\n",
       " 'masjed-e soleyman',\n",
       " 'nysa',\n",
       " 'morinville',\n",
       " 'kodiak',\n",
       " 'attawapiskat',\n",
       " 'grindavik',\n",
       " 'la libertad',\n",
       " 'dentsville',\n",
       " 'oussouye',\n",
       " 'kuloy',\n",
       " 'camocim',\n",
       " 'kazachinskoye',\n",
       " 'cocorit',\n",
       " 'shahr-e kord',\n",
       " 'fukue',\n",
       " 'inderborskiy',\n",
       " 'nizhneyansk',\n",
       " 'contamana',\n",
       " 'tual',\n",
       " 'ancud',\n",
       " 'burkhala',\n",
       " 'tessalit',\n",
       " 'flinders',\n",
       " 'adre',\n",
       " 'bazaliya',\n",
       " 'yabassi',\n",
       " 'haines junction',\n",
       " 'mweka',\n",
       " 'caravelas',\n",
       " 'pag',\n",
       " 'thinadhoo',\n",
       " 'ust-nera',\n",
       " 'sur',\n",
       " 'narsaq',\n",
       " 'labuhan',\n",
       " 'balsas',\n",
       " 'flin flon',\n",
       " 'aleksandrovskoye',\n",
       " 'port lincoln',\n",
       " 'cap malheureux',\n",
       " 'amudat',\n",
       " 'alexandria',\n",
       " 'louisbourg',\n",
       " 'quatre cocos',\n",
       " 'huaihua',\n",
       " 'orlovka',\n",
       " 'santiago',\n",
       " 'cockburn town',\n",
       " 'soe',\n",
       " 'hofn',\n",
       " 'kununurra',\n",
       " 'smithers',\n",
       " 'palivere',\n",
       " 'san juan',\n",
       " 'lewistown',\n",
       " 'dumas',\n",
       " 'valencia',\n",
       " 'atambua',\n",
       " 'mbuguni',\n",
       " 'zatoka',\n",
       " 'sakakah',\n",
       " 'shubarkuduk',\n",
       " 'pullampadi',\n",
       " 'camopi',\n",
       " 'surt',\n",
       " 'huarmey',\n",
       " 'kalianget',\n",
       " 'chernyshevskiy',\n",
       " 'moundsville',\n",
       " 'fairbanks',\n",
       " 'pecan grove',\n",
       " 'karakulino',\n",
       " 'port-cartier',\n",
       " 'vieste',\n",
       " 'zacatecoluca',\n",
       " 'imbituba',\n",
       " 'popondetta',\n",
       " 'ust-koksa',\n",
       " 'dudinka',\n",
       " 'port macquarie',\n",
       " 'jibuti',\n",
       " 'morondava',\n",
       " 'sidney',\n",
       " 'meulaboh',\n",
       " 'preobrazhenka',\n",
       " 'cassilandia',\n",
       " 'nouakchott',\n",
       " 'le vauclin',\n",
       " 'yeppoon',\n",
       " 'florianopolis',\n",
       " 'bulgan',\n",
       " 'guaruja',\n",
       " 'medyn',\n",
       " 'tromso',\n",
       " 'taoudenni',\n",
       " 'soure',\n",
       " 'riohacha',\n",
       " 'vostok',\n",
       " 'nacala',\n",
       " 'sisimiut',\n",
       " 'komsomolskiy',\n",
       " 'tukrah',\n",
       " 'ban nahin',\n",
       " 'malwan',\n",
       " 'grants pass',\n",
       " 'batemans bay',\n",
       " 'amahai',\n",
       " 'pilar',\n",
       " 'vila velha',\n",
       " 'leh',\n",
       " 'palabuhanratu',\n",
       " 'dehloran',\n",
       " 'mudigere',\n",
       " 'marawi',\n",
       " 'saint george',\n",
       " 'bolungarvik',\n",
       " 'shu',\n",
       " 'verkhniye sergi',\n",
       " 'cody',\n",
       " 'alofi',\n",
       " 'antalaha',\n",
       " 'ust-kulom',\n",
       " 'okhotsk',\n",
       " 'samalaeulu',\n",
       " 'omsukchan',\n",
       " 'katsuura',\n",
       " 'dicabisagan',\n",
       " 'kuche',\n",
       " 'singkang',\n",
       " 'inhambane',\n",
       " 'carnot',\n",
       " 'matagami',\n",
       " 'thunder bay',\n",
       " 'sao filipe',\n",
       " 'araouane',\n",
       " 'xam nua',\n",
       " 'verkhoyansk',\n",
       " 'armacao de pera',\n",
       " 'beira',\n",
       " 'romano di lombardia',\n",
       " 'tateyama',\n",
       " 'kiama',\n",
       " 'garowe',\n",
       " 'sorvag',\n",
       " 'boende',\n",
       " 'san policarpo',\n",
       " 'albury',\n",
       " 'egvekinot',\n",
       " 'moose factory',\n",
       " 'mayfield',\n",
       " 'bubaque',\n",
       " 'rapid valley',\n",
       " 'gulshat',\n",
       " 'kalasin',\n",
       " 'korla',\n",
       " 'taltal',\n",
       " 'bilma',\n",
       " 'bonavista',\n",
       " 'yulara',\n",
       " 'camacupa',\n",
       " 'makurdi',\n",
       " 'chachapoyas',\n",
       " 'anshun',\n",
       " 'nishihara',\n",
       " 'kavaratti',\n",
       " 'faya',\n",
       " 'kirakira',\n",
       " 'locri',\n",
       " 'darnah',\n",
       " 'mount pleasant',\n",
       " 'tougue',\n",
       " 'terra santa',\n",
       " 'santa rosa de viterbo',\n",
       " 'kenora',\n",
       " 'utkivka',\n",
       " 'magadan',\n",
       " 'minsk',\n",
       " 'nizhneudinsk',\n",
       " 'mahon',\n",
       " 'gambela',\n",
       " 'trelew',\n",
       " 'bandarbeyla',\n",
       " 'vila',\n",
       " 'sturgeon falls',\n",
       " 'santa cruz',\n",
       " 'obo',\n",
       " 'beloha',\n",
       " 'acapulco',\n",
       " 'gasa',\n",
       " 'elko',\n",
       " 'port hawkesbury',\n",
       " 'teahupoo',\n",
       " 'mago',\n",
       " 'placerville',\n",
       " 'port keats',\n",
       " 'kytlym',\n",
       " 'salinas',\n",
       " 'dalinghe',\n",
       " 'hailey',\n",
       " 'dingle',\n",
       " 'bambanglipuro',\n",
       " 'rio grande',\n",
       " 'half moon bay',\n",
       " 'carballo',\n",
       " 'la rochelle',\n",
       " 'kyren',\n",
       " 'livezile',\n",
       " 'moramanga',\n",
       " 'sharjah',\n",
       " 'axim',\n",
       " 'nizhniy kuranakh',\n",
       " 'prachuap khiri khan',\n",
       " 'itaporanga',\n",
       " 'havoysund',\n",
       " 'caucaia',\n",
       " 'guerrero negro',\n",
       " 'dolbeau',\n",
       " 'kindia',\n",
       " 'mayo',\n",
       " 'singaraja',\n",
       " 'mabaruma',\n",
       " 'penzance',\n",
       " 'kavieng',\n",
       " 'kotar',\n",
       " 'twentynine palms',\n",
       " 'salas',\n",
       " 'tautira',\n",
       " 'hamilton',\n",
       " 'jogindarnagar',\n",
       " 'buritizeiro',\n",
       " 'kozhva',\n",
       " 'bargal',\n",
       " 'kedrovyy',\n",
       " 'castanos',\n",
       " 'udachnyy',\n",
       " 'rio gallegos',\n",
       " 'umzimvubu',\n",
       " 'zyryanka',\n",
       " 'lima',\n",
       " 'scarborough',\n",
       " 'plettenberg bay',\n",
       " 'visnes',\n",
       " 'sibolga',\n",
       " 'mwinilunga',\n",
       " 'zamora',\n",
       " 'dzhusaly',\n",
       " 'dhangadhi',\n",
       " 'harper',\n",
       " 'ewa beach',\n",
       " 'ternate',\n",
       " 'jiangkou',\n",
       " 'lorengau',\n",
       " 'ambon',\n",
       " 'holme',\n",
       " 'pakwach',\n",
       " 'pangnirtung',\n",
       " 'sorong',\n",
       " 'minudasht',\n",
       " 'kurumkan',\n",
       " 'omegna',\n",
       " 'ilhabela',\n",
       " 'sohag',\n",
       " 'medvezhyegorsk',\n",
       " 'kleck',\n",
       " 'sept-iles',\n",
       " 'ahipara',\n",
       " 'alice springs',\n",
       " 'black river',\n",
       " 'zolotinka',\n",
       " 'lasa',\n",
       " 'san vicente',\n",
       " 'san andres',\n",
       " 'mokrousovo',\n",
       " 'high level',\n",
       " 'sinazongwe',\n",
       " 'olga',\n",
       " 'inverell',\n",
       " 'dauphin',\n",
       " 'jadu',\n",
       " 'santa lucia',\n",
       " 'marsh harbour',\n",
       " 'tabiauea',\n",
       " 'norman wells',\n",
       " 'la roche-en-ardenne',\n",
       " 'warrington',\n",
       " 'moroni',\n",
       " 'jacksonville beach',\n",
       " 'raudeberg',\n",
       " 'antsohihy',\n",
       " 'russell',\n",
       " 'junnar',\n",
       " 'pitimbu',\n",
       " 'roald',\n",
       " 'olyka',\n",
       " 'eureka',\n",
       " 'wangkui']"
      ]
     },
     "execution_count": 3,
     "metadata": {},
     "output_type": "execute_result"
    }
   ],
   "source": [
    "cities"
   ]
  },
  {
   "cell_type": "markdown",
   "metadata": {},
   "source": [
    "### Perform API Calls\n",
    "* Perform a weather check on each city using a series of successive API calls.\n",
    "* Include a print log of each city as it'sbeing processed (with the city number and city name).\n"
   ]
  },
  {
   "cell_type": "code",
   "execution_count": 4,
   "metadata": {},
   "outputs": [],
   "source": [
    "base_url = \"http://api.openweathermap.org/data/2.5/weather?\"\n",
    "units = \"imperial\"\n",
    "# query_url = base_url + \"APPID=\" + weather_api_key\n",
    "query_url = base_url + \"appid=\" + weather_api_key + \"&units=\" + units + \"&q=\"\n",
    "city_url = query_url + \"&q=\" + city.replace(\" \",\"+\")\n",
    "response = requests.get(city_url).json()"
   ]
  },
  {
   "cell_type": "code",
   "execution_count": 5,
   "metadata": {},
   "outputs": [
    {
     "data": {
      "text/plain": [
       "dict_keys(['cod', 'message'])"
      ]
     },
     "execution_count": 5,
     "metadata": {},
     "output_type": "execute_result"
    }
   ],
   "source": [
    "# retrieve dictionary keys\n",
    "response.keys()"
   ]
  },
  {
   "cell_type": "code",
   "execution_count": 6,
   "metadata": {},
   "outputs": [
    {
     "name": "stdout",
     "output_type": "stream",
     "text": [
      "Beginning Data Retrieval \n",
      "-----------------------------\n",
      "Processing Record 2 of Set 1: atuona\n",
      "Processing Record 3 of Set 1: leningradskiy\n",
      "Processing Record 4 of Set 1: busselton\n",
      "Processing Record 5 of Set 1: vaini\n",
      "Processing Record 6 of Set 1: albany\n",
      "Processing Record 7 of Set 1: carnarvon\n",
      "Processing Record 8 of Set 1: laguna\n",
      "Processing Record 9 of Set 1: ushuaia\n",
      "Processing Record 10 of Set 1: hobart\n",
      "Processing Record 11 of Set 1: empalme\n",
      "Processing Record 12 of Set 1: inuvik\n",
      "Processing Record 13 of Set 1: puerto ayora\n",
      "Processing Record 14 of Set 1: isla vista\n",
      "Processing Record 15 of Set 1: dikson\n",
      "Processing Record 16 of Set 1: rikitea\n",
      "Processing Record 17 of Set 1: new norfolk\n",
      "Processing Record 18 of Set 1: benjamin constant\n",
      "Processing Record 19 of Set 1: mirabela\n",
      "Processing Record 20 of Set 1: bengkulu\n",
      "Processing Record 21 of Set 1: iqaluit\n",
      "Processing Record 22 of Set 1: matinha\n",
      "Processing Record 23 of Set 1: hostotipaquillo\n",
      "Processing Record 24 of Set 1: kapaa\n",
      "Processing Record 25 of Set 1: necochea\n",
      "Processing Record 26 of Set 1: valle del guamuez\n",
      "City not found. Skipping...\n",
      "Processing Record 27 of Set 1: arlit\n",
      "Processing Record 28 of Set 1: zomba\n",
      "City not found. Skipping...\n",
      "Processing Record 29 of Set 1: xihe\n",
      "Processing Record 30 of Set 1: constitucion\n",
      "Processing Record 31 of Set 1: tuktoyaktuk\n",
      "Processing Record 32 of Set 1: mildura\n",
      "Processing Record 33 of Set 1: kropotkin\n",
      "Processing Record 34 of Set 1: lompoc\n",
      "Processing Record 35 of Set 1: thompson\n",
      "Processing Record 36 of Set 1: barrow\n",
      "Processing Record 37 of Set 1: taunggyi\n",
      "Processing Record 38 of Set 1: naze\n",
      "Processing Record 39 of Set 1: hobyo\n",
      "Processing Record 40 of Set 1: artyom\n",
      "Processing Record 41 of Set 1: port elizabeth\n",
      "City not found. Skipping...\n",
      "Processing Record 42 of Set 1: honningsvag\n",
      "Processing Record 43 of Set 1: hilo\n",
      "Processing Record 44 of Set 1: tazovskiy\n",
      "Processing Record 45 of Set 1: svetlogorsk\n",
      "Processing Record 46 of Set 1: ixtapa\n",
      "Processing Record 47 of Set 1: djibo\n",
      "Processing Record 48 of Set 1: camargo\n",
      "Processing Record 49 of Set 1: nantucket\n",
      "Processing Record 50 of Set 1: tuatapere\n",
      "Processing Record 0 of Set 2: kahului\n",
      "Processing Record 1 of Set 2: linqing\n",
      "Processing Record 2 of Set 2: mar del plata\n",
      "Processing Record 3 of Set 2: sorland\n",
      "Processing Record 4 of Set 2: airai\n",
      "Processing Record 5 of Set 2: nadvoitsy\n",
      "Processing Record 6 of Set 2: hermanus\n",
      "Processing Record 7 of Set 2: seoul\n",
      "Processing Record 8 of Set 2: ishigaki\n",
      "Processing Record 9 of Set 2: cidreira\n",
      "Processing Record 10 of Set 2: montelimar\n",
      "Processing Record 11 of Set 2: kibre mengist\n",
      "Processing Record 12 of Set 2: lavrentiya\n",
      "Processing Record 13 of Set 2: vao\n",
      "Processing Record 14 of Set 2: vicuna\n",
      "Processing Record 15 of Set 2: namatanai\n",
      "Processing Record 16 of Set 2: punta arenas\n",
      "Processing Record 17 of Set 2: saint-philippe\n",
      "Processing Record 18 of Set 2: bloomfield\n",
      "Processing Record 19 of Set 2: bluff\n",
      "Processing Record 20 of Set 2: yellowknife\n",
      "Processing Record 21 of Set 2: praya\n",
      "Processing Record 22 of Set 2: port alfred\n",
      "Processing Record 23 of Set 2: san alberto\n",
      "Processing Record 24 of Set 2: ostrovnoy\n",
      "Processing Record 25 of Set 2: khatanga\n",
      "Processing Record 26 of Set 2: saint-paul\n",
      "Processing Record 27 of Set 2: la ronge\n",
      "Processing Record 28 of Set 2: westport\n",
      "Processing Record 29 of Set 2: severodvinsk\n",
      "Processing Record 30 of Set 2: mpongwe\n",
      "Processing Record 31 of Set 2: coquimbo\n",
      "Processing Record 32 of Set 2: finspang\n",
      "Processing Record 33 of Set 2: kailua\n",
      "Processing Record 34 of Set 2: hithadhoo\n",
      "Processing Record 35 of Set 2: provideniya\n",
      "Processing Record 36 of Set 2: tasiilaq\n",
      "Processing Record 37 of Set 2: nanortalik\n",
      "Processing Record 38 of Set 2: esperance\n",
      "Processing Record 39 of Set 2: bilibino\n",
      "Processing Record 40 of Set 2: phalaborwa\n",
      "Processing Record 41 of Set 2: bheramara\n",
      "Processing Record 42 of Set 2: mbandaka\n",
      "Processing Record 43 of Set 2: bad windsheim\n",
      "Processing Record 44 of Set 2: charleville-mezieres\n",
      "City not found. Skipping...\n",
      "Processing Record 45 of Set 2: chuy\n",
      "Processing Record 46 of Set 2: potsdam\n",
      "Processing Record 47 of Set 2: arraial do cabo\n",
      "Processing Record 48 of Set 2: qaanaaq\n",
      "Processing Record 49 of Set 2: buka\n",
      "Processing Record 50 of Set 2: saskylakh\n",
      "Processing Record 0 of Set 3: palmas bellas\n",
      "Processing Record 1 of Set 3: sao joao da barra\n",
      "Processing Record 2 of Set 3: poum\n",
      "Processing Record 3 of Set 3: bredasdorp\n",
      "Processing Record 4 of Set 3: bud\n",
      "Processing Record 5 of Set 3: butaritari\n",
      "Processing Record 6 of Set 3: aklavik\n",
      "Processing Record 7 of Set 3: nikolskoye\n",
      "Processing Record 8 of Set 3: toamasina\n",
      "Processing Record 9 of Set 3: liaqatabad\n",
      "Processing Record 10 of Set 3: floro\n",
      "Processing Record 11 of Set 3: vitry-le-francois\n",
      "Processing Record 12 of Set 3: auki\n",
      "Processing Record 13 of Set 3: businga\n",
      "Processing Record 14 of Set 3: beringovskiy\n",
      "Processing Record 15 of Set 3: barcelos\n",
      "Processing Record 16 of Set 3: hasaki\n",
      "City not found. Skipping...\n",
      "Processing Record 17 of Set 3: lebu\n",
      "Processing Record 18 of Set 3: noshiro\n",
      "Processing Record 19 of Set 3: port hardy\n",
      "Processing Record 20 of Set 3: grand island\n",
      "Processing Record 21 of Set 3: kaitangata\n",
      "Processing Record 22 of Set 3: hailin\n",
      "Processing Record 23 of Set 3: douglas\n",
      "Processing Record 24 of Set 3: cape town\n",
      "Processing Record 25 of Set 3: monrovia\n",
      "Processing Record 26 of Set 3: namibe\n",
      "Processing Record 27 of Set 3: paamiut\n",
      "Processing Record 28 of Set 3: lakhtar\n",
      "Processing Record 29 of Set 3: petropavlovsk-kamchatskiy\n",
      "Processing Record 30 of Set 3: asahikawa\n",
      "Processing Record 31 of Set 3: cascais\n",
      "Processing Record 32 of Set 3: ninghai\n",
      "Processing Record 33 of Set 3: pevek\n",
      "Processing Record 34 of Set 3: atar\n",
      "Processing Record 35 of Set 3: kabompo\n",
      "Processing Record 36 of Set 3: cabo san lucas\n",
      "Processing Record 37 of Set 3: jonuta\n",
      "Processing Record 38 of Set 3: boyolangu\n",
      "Processing Record 39 of Set 3: mount isa\n",
      "City not found. Skipping...\n",
      "Processing Record 40 of Set 3: yar-sale\n",
      "Processing Record 41 of Set 3: luderitz\n",
      "Processing Record 42 of Set 3: te anau\n",
      "Processing Record 43 of Set 3: tiksi\n",
      "Processing Record 44 of Set 3: doha\n",
      "Processing Record 45 of Set 3: takoradi\n",
      "Processing Record 46 of Set 3: salalah\n",
      "Processing Record 47 of Set 3: yashkul\n",
      "Processing Record 48 of Set 3: east london\n",
      "Processing Record 49 of Set 3: nouadhibou\n",
      "Processing Record 50 of Set 3: sinaloa\n",
      "Processing Record 0 of Set 4: coolum beach\n",
      "Processing Record 1 of Set 4: ponta do sol\n",
      "Processing Record 2 of Set 4: andros town\n",
      "Processing Record 3 of Set 4: muncar\n",
      "Processing Record 4 of Set 4: bethel\n",
      "Processing Record 5 of Set 4: tottori\n",
      "Processing Record 6 of Set 4: mezen\n",
      "Processing Record 7 of Set 4: jamestown\n",
      "Processing Record 8 of Set 4: vaitape\n",
      "Processing Record 9 of Set 4: olafsvik\n",
      "Processing Record 10 of Set 4: koumac\n",
      "City not found. Skipping...\n",
      "Processing Record 11 of Set 4: qinzhou\n",
      "Processing Record 12 of Set 4: krasnovishersk\n",
      "Processing Record 13 of Set 4: zhangye\n",
      "Processing Record 14 of Set 4: brenham\n",
      "Processing Record 15 of Set 4: hohhot\n",
      "Processing Record 16 of Set 4: oranjemund\n",
      "Processing Record 17 of Set 4: saint anthony\n",
      "Processing Record 18 of Set 4: ribeira grande\n",
      "Processing Record 19 of Set 4: beipiao\n",
      "Processing Record 20 of Set 4: avarua\n",
      "Processing Record 21 of Set 4: torbay\n",
      "Processing Record 22 of Set 4: keti bandar\n",
      "Processing Record 23 of Set 4: mahebourg\n",
      "Processing Record 24 of Set 4: severo-kurilsk\n",
      "Processing Record 25 of Set 4: faanui\n",
      "Processing Record 26 of Set 4: tupik\n",
      "Processing Record 27 of Set 4: kruisfontein\n",
      "Processing Record 28 of Set 4: cherskiy\n",
      "Processing Record 29 of Set 4: nador\n",
      "Processing Record 30 of Set 4: jeremie\n",
      "Processing Record 31 of Set 4: mataura\n",
      "Processing Record 32 of Set 4: eyl\n",
      "Processing Record 33 of Set 4: vestmannaeyjar\n",
      "Processing Record 34 of Set 4: karratha\n",
      "Processing Record 35 of Set 4: filadelfia\n",
      "Processing Record 36 of Set 4: deputatskiy\n",
      "City not found. Skipping...\n",
      "Processing Record 37 of Set 4: motygino\n",
      "Processing Record 38 of Set 4: los llanos de aridane\n",
      "Processing Record 39 of Set 4: kyabe\n",
      "City not found. Skipping...\n",
      "Processing Record 40 of Set 4: asau\n",
      "Processing Record 41 of Set 4: krasnoselkup\n",
      "Processing Record 42 of Set 4: hualmay\n",
      "Processing Record 43 of Set 4: rethimnon\n",
      "Processing Record 44 of Set 4: chesma\n",
      "Processing Record 45 of Set 4: debre sina\n",
      "Processing Record 46 of Set 4: astoria\n",
      "Processing Record 47 of Set 4: manbij\n",
      "Processing Record 48 of Set 4: malazgirt\n",
      "Processing Record 49 of Set 4: skibbereen\n",
      "Processing Record 50 of Set 4: bambous virieux\n",
      "Processing Record 0 of Set 5: neryungri\n",
      "Processing Record 1 of Set 5: lulea\n",
      "City not found. Skipping...\n",
      "City not found. Skipping...\n",
      "Processing Record 2 of Set 5: san cristobal\n",
      "Processing Record 3 of Set 5: laon\n",
      "Processing Record 4 of Set 5: geraldton\n",
      "Processing Record 5 of Set 5: avera\n",
      "Processing Record 6 of Set 5: boa vista\n",
      "Processing Record 7 of Set 5: fortuna\n",
      "Processing Record 8 of Set 5: dese\n",
      "Processing Record 9 of Set 5: georgetown\n",
      "Processing Record 10 of Set 5: pecos\n",
      "Processing Record 11 of Set 5: porto novo\n",
      "Processing Record 12 of Set 5: solnechnyy\n"
     ]
    },
    {
     "ename": "KeyboardInterrupt",
     "evalue": "",
     "output_type": "error",
     "traceback": [
      "\u001b[0;31m---------------------------------------------------------------------------\u001b[0m",
      "\u001b[0;31mKeyboardInterrupt\u001b[0m                         Traceback (most recent call last)",
      "\u001b[1;32m/Users/gracecheuk/Desktop/Gitrepo/Python-API-challenge/WeatherPy/WeatherPy.ipynb Cell 9\u001b[0m in \u001b[0;36m<cell line: 19>\u001b[0;34m()\u001b[0m\n\u001b[1;32m     <a href='vscode-notebook-cell:/Users/gracecheuk/Desktop/Gitrepo/Python-API-challenge/WeatherPy/WeatherPy.ipynb#X11sZmlsZQ%3D%3D?line=18'>19</a>\u001b[0m \u001b[39mfor\u001b[39;00m index, city \u001b[39min\u001b[39;00m \u001b[39menumerate\u001b[39m(cities, start \u001b[39m=\u001b[39m \u001b[39m1\u001b[39m):\n\u001b[1;32m     <a href='vscode-notebook-cell:/Users/gracecheuk/Desktop/Gitrepo/Python-API-challenge/WeatherPy/WeatherPy.ipynb#X11sZmlsZQ%3D%3D?line=19'>20</a>\u001b[0m     \u001b[39mtry\u001b[39;00m:\n\u001b[0;32m---> <a href='vscode-notebook-cell:/Users/gracecheuk/Desktop/Gitrepo/Python-API-challenge/WeatherPy/WeatherPy.ipynb#X11sZmlsZQ%3D%3D?line=20'>21</a>\u001b[0m         response \u001b[39m=\u001b[39m requests\u001b[39m.\u001b[39;49mget(query_url \u001b[39m+\u001b[39;49m city)\u001b[39m.\u001b[39mjson()\n\u001b[1;32m     <a href='vscode-notebook-cell:/Users/gracecheuk/Desktop/Gitrepo/Python-API-challenge/WeatherPy/WeatherPy.ipynb#X11sZmlsZQ%3D%3D?line=21'>22</a>\u001b[0m         City\u001b[39m.\u001b[39mappend(response[\u001b[39m\"\u001b[39m\u001b[39mname\u001b[39m\u001b[39m\"\u001b[39m])\n\u001b[1;32m     <a href='vscode-notebook-cell:/Users/gracecheuk/Desktop/Gitrepo/Python-API-challenge/WeatherPy/WeatherPy.ipynb#X11sZmlsZQ%3D%3D?line=22'>23</a>\u001b[0m         cloud\u001b[39m.\u001b[39mappend(response[\u001b[39m\"\u001b[39m\u001b[39mclouds\u001b[39m\u001b[39m\"\u001b[39m][\u001b[39m\"\u001b[39m\u001b[39mall\u001b[39m\u001b[39m\"\u001b[39m])\n",
      "File \u001b[0;32m~/opt/anaconda3/lib/python3.9/site-packages/requests/api.py:75\u001b[0m, in \u001b[0;36mget\u001b[0;34m(url, params, **kwargs)\u001b[0m\n\u001b[1;32m     64\u001b[0m \u001b[39mdef\u001b[39;00m \u001b[39mget\u001b[39m(url, params\u001b[39m=\u001b[39m\u001b[39mNone\u001b[39;00m, \u001b[39m*\u001b[39m\u001b[39m*\u001b[39mkwargs):\n\u001b[1;32m     65\u001b[0m     \u001b[39mr\u001b[39m\u001b[39m\"\"\"Sends a GET request.\u001b[39;00m\n\u001b[1;32m     66\u001b[0m \n\u001b[1;32m     67\u001b[0m \u001b[39m    :param url: URL for the new :class:`Request` object.\u001b[39;00m\n\u001b[0;32m   (...)\u001b[0m\n\u001b[1;32m     72\u001b[0m \u001b[39m    :rtype: requests.Response\u001b[39;00m\n\u001b[1;32m     73\u001b[0m \u001b[39m    \"\"\"\u001b[39;00m\n\u001b[0;32m---> 75\u001b[0m     \u001b[39mreturn\u001b[39;00m request(\u001b[39m'\u001b[39;49m\u001b[39mget\u001b[39;49m\u001b[39m'\u001b[39;49m, url, params\u001b[39m=\u001b[39;49mparams, \u001b[39m*\u001b[39;49m\u001b[39m*\u001b[39;49mkwargs)\n",
      "File \u001b[0;32m~/opt/anaconda3/lib/python3.9/site-packages/requests/api.py:61\u001b[0m, in \u001b[0;36mrequest\u001b[0;34m(method, url, **kwargs)\u001b[0m\n\u001b[1;32m     57\u001b[0m \u001b[39m# By using the 'with' statement we are sure the session is closed, thus we\u001b[39;00m\n\u001b[1;32m     58\u001b[0m \u001b[39m# avoid leaving sockets open which can trigger a ResourceWarning in some\u001b[39;00m\n\u001b[1;32m     59\u001b[0m \u001b[39m# cases, and look like a memory leak in others.\u001b[39;00m\n\u001b[1;32m     60\u001b[0m \u001b[39mwith\u001b[39;00m sessions\u001b[39m.\u001b[39mSession() \u001b[39mas\u001b[39;00m session:\n\u001b[0;32m---> 61\u001b[0m     \u001b[39mreturn\u001b[39;00m session\u001b[39m.\u001b[39;49mrequest(method\u001b[39m=\u001b[39;49mmethod, url\u001b[39m=\u001b[39;49murl, \u001b[39m*\u001b[39;49m\u001b[39m*\u001b[39;49mkwargs)\n",
      "File \u001b[0;32m~/opt/anaconda3/lib/python3.9/site-packages/requests/sessions.py:529\u001b[0m, in \u001b[0;36mSession.request\u001b[0;34m(self, method, url, params, data, headers, cookies, files, auth, timeout, allow_redirects, proxies, hooks, stream, verify, cert, json)\u001b[0m\n\u001b[1;32m    524\u001b[0m send_kwargs \u001b[39m=\u001b[39m {\n\u001b[1;32m    525\u001b[0m     \u001b[39m'\u001b[39m\u001b[39mtimeout\u001b[39m\u001b[39m'\u001b[39m: timeout,\n\u001b[1;32m    526\u001b[0m     \u001b[39m'\u001b[39m\u001b[39mallow_redirects\u001b[39m\u001b[39m'\u001b[39m: allow_redirects,\n\u001b[1;32m    527\u001b[0m }\n\u001b[1;32m    528\u001b[0m send_kwargs\u001b[39m.\u001b[39mupdate(settings)\n\u001b[0;32m--> 529\u001b[0m resp \u001b[39m=\u001b[39m \u001b[39mself\u001b[39;49m\u001b[39m.\u001b[39;49msend(prep, \u001b[39m*\u001b[39;49m\u001b[39m*\u001b[39;49msend_kwargs)\n\u001b[1;32m    531\u001b[0m \u001b[39mreturn\u001b[39;00m resp\n",
      "File \u001b[0;32m~/opt/anaconda3/lib/python3.9/site-packages/requests/sessions.py:645\u001b[0m, in \u001b[0;36mSession.send\u001b[0;34m(self, request, **kwargs)\u001b[0m\n\u001b[1;32m    642\u001b[0m start \u001b[39m=\u001b[39m preferred_clock()\n\u001b[1;32m    644\u001b[0m \u001b[39m# Send the request\u001b[39;00m\n\u001b[0;32m--> 645\u001b[0m r \u001b[39m=\u001b[39m adapter\u001b[39m.\u001b[39;49msend(request, \u001b[39m*\u001b[39;49m\u001b[39m*\u001b[39;49mkwargs)\n\u001b[1;32m    647\u001b[0m \u001b[39m# Total elapsed time of the request (approximately)\u001b[39;00m\n\u001b[1;32m    648\u001b[0m elapsed \u001b[39m=\u001b[39m preferred_clock() \u001b[39m-\u001b[39m start\n",
      "File \u001b[0;32m~/opt/anaconda3/lib/python3.9/site-packages/requests/adapters.py:418\u001b[0m, in \u001b[0;36mHTTPAdapter.send\u001b[0;34m(self, request, stream, timeout, verify, cert, proxies)\u001b[0m\n\u001b[1;32m    415\u001b[0m     \u001b[39mraise\u001b[39;00m InvalidURL(e, request\u001b[39m=\u001b[39mrequest)\n\u001b[1;32m    417\u001b[0m \u001b[39mself\u001b[39m\u001b[39m.\u001b[39mcert_verify(conn, request\u001b[39m.\u001b[39murl, verify, cert)\n\u001b[0;32m--> 418\u001b[0m url \u001b[39m=\u001b[39m \u001b[39mself\u001b[39;49m\u001b[39m.\u001b[39;49mrequest_url(request, proxies)\n\u001b[1;32m    419\u001b[0m \u001b[39mself\u001b[39m\u001b[39m.\u001b[39madd_headers(request, stream\u001b[39m=\u001b[39mstream, timeout\u001b[39m=\u001b[39mtimeout, verify\u001b[39m=\u001b[39mverify, cert\u001b[39m=\u001b[39mcert, proxies\u001b[39m=\u001b[39mproxies)\n\u001b[1;32m    421\u001b[0m chunked \u001b[39m=\u001b[39m \u001b[39mnot\u001b[39;00m (request\u001b[39m.\u001b[39mbody \u001b[39mis\u001b[39;00m \u001b[39mNone\u001b[39;00m \u001b[39mor\u001b[39;00m \u001b[39m'\u001b[39m\u001b[39mContent-Length\u001b[39m\u001b[39m'\u001b[39m \u001b[39min\u001b[39;00m request\u001b[39m.\u001b[39mheaders)\n",
      "File \u001b[0;32m~/opt/anaconda3/lib/python3.9/site-packages/requests/adapters.py:344\u001b[0m, in \u001b[0;36mHTTPAdapter.request_url\u001b[0;34m(self, request, proxies)\u001b[0m\n\u001b[1;32m    330\u001b[0m \u001b[39mdef\u001b[39;00m \u001b[39mrequest_url\u001b[39m(\u001b[39mself\u001b[39m, request, proxies):\n\u001b[1;32m    331\u001b[0m     \u001b[39m\"\"\"Obtain the url to use when making the final request.\u001b[39;00m\n\u001b[1;32m    332\u001b[0m \n\u001b[1;32m    333\u001b[0m \u001b[39m    If the message is being sent through a HTTP proxy, the full URL has to\u001b[39;00m\n\u001b[0;32m   (...)\u001b[0m\n\u001b[1;32m    342\u001b[0m \u001b[39m    :rtype: str\u001b[39;00m\n\u001b[1;32m    343\u001b[0m \u001b[39m    \"\"\"\u001b[39;00m\n\u001b[0;32m--> 344\u001b[0m     proxy \u001b[39m=\u001b[39m select_proxy(request\u001b[39m.\u001b[39;49murl, proxies)\n\u001b[1;32m    345\u001b[0m     scheme \u001b[39m=\u001b[39m urlparse(request\u001b[39m.\u001b[39murl)\u001b[39m.\u001b[39mscheme\n\u001b[1;32m    347\u001b[0m     is_proxied_http_request \u001b[39m=\u001b[39m (proxy \u001b[39mand\u001b[39;00m scheme \u001b[39m!=\u001b[39m \u001b[39m'\u001b[39m\u001b[39mhttps\u001b[39m\u001b[39m'\u001b[39m)\n",
      "File \u001b[0;32m~/opt/anaconda3/lib/python3.9/site-packages/requests/utils.py:818\u001b[0m, in \u001b[0;36mselect_proxy\u001b[0;34m(url, proxies)\u001b[0m\n\u001b[1;32m    812\u001b[0m \u001b[39m\"\"\"Select a proxy for the url, if applicable.\u001b[39;00m\n\u001b[1;32m    813\u001b[0m \n\u001b[1;32m    814\u001b[0m \u001b[39m:param url: The url being for the request\u001b[39;00m\n\u001b[1;32m    815\u001b[0m \u001b[39m:param proxies: A dictionary of schemes or schemes and hosts to proxy URLs\u001b[39;00m\n\u001b[1;32m    816\u001b[0m \u001b[39m\"\"\"\u001b[39;00m\n\u001b[1;32m    817\u001b[0m proxies \u001b[39m=\u001b[39m proxies \u001b[39mor\u001b[39;00m {}\n\u001b[0;32m--> 818\u001b[0m urlparts \u001b[39m=\u001b[39m urlparse(url)\n\u001b[1;32m    819\u001b[0m \u001b[39mif\u001b[39;00m urlparts\u001b[39m.\u001b[39mhostname \u001b[39mis\u001b[39;00m \u001b[39mNone\u001b[39;00m:\n\u001b[1;32m    820\u001b[0m     \u001b[39mreturn\u001b[39;00m proxies\u001b[39m.\u001b[39mget(urlparts\u001b[39m.\u001b[39mscheme, proxies\u001b[39m.\u001b[39mget(\u001b[39m'\u001b[39m\u001b[39mall\u001b[39m\u001b[39m'\u001b[39m))\n",
      "File \u001b[0;32m~/opt/anaconda3/lib/python3.9/urllib/parse.py:395\u001b[0m, in \u001b[0;36murlparse\u001b[0;34m(url, scheme, allow_fragments)\u001b[0m\n\u001b[1;32m    393\u001b[0m splitresult \u001b[39m=\u001b[39m urlsplit(url, scheme, allow_fragments)\n\u001b[1;32m    394\u001b[0m scheme, netloc, url, query, fragment \u001b[39m=\u001b[39m splitresult\n\u001b[0;32m--> 395\u001b[0m \u001b[39mif\u001b[39;00m scheme \u001b[39min\u001b[39;00m uses_params \u001b[39mand\u001b[39;00m \u001b[39m'\u001b[39m\u001b[39m;\u001b[39m\u001b[39m'\u001b[39m \u001b[39min\u001b[39;00m url:\n\u001b[1;32m    396\u001b[0m     url, params \u001b[39m=\u001b[39m _splitparams(url)\n\u001b[1;32m    397\u001b[0m \u001b[39melse\u001b[39;00m:\n",
      "\u001b[0;31mKeyboardInterrupt\u001b[0m: "
     ]
    }
   ],
   "source": [
    "City = []\n",
    "lat = []\n",
    "lng = []\n",
    "temp = []\n",
    "humidity = []\n",
    "cloud = []\n",
    "wind = []\n",
    "country = []\n",
    "date = []\n",
    "Record = 1\n",
    "Set = 1\n",
    "\n",
    "# date = pd.to_datetime(int(response[\"dt\"]))#.strftime('%m-%d-%Y')\n",
    "\n",
    "print(\"Beginning Data Retrieval \")\n",
    "print(\"-----------------------------\")\n",
    "\n",
    "# For each city name in cities list, do below things...\n",
    "for index, city in enumerate(cities, start = 1):\n",
    "    try:\n",
    "        response = requests.get(query_url + city).json()\n",
    "        City.append(response[\"name\"])\n",
    "        cloud.append(response[\"clouds\"][\"all\"])\n",
    "        country.append(response[\"sys\"][\"country\"])\n",
    "        date.append(response[\"dt\"])\n",
    "        humidity.append(response[\"main\"][\"humidity\"])\n",
    "        lat.append(response[\"coord\"][\"lat\"])\n",
    "        lng.append(response[\"coord\"][\"lon\"])\n",
    "        temp.append(response[\"main\"][\"temp_max\"])\n",
    "        wind.append(response[\"wind\"][\"speed\"])\n",
    "        \n",
    "        if Record > 49:\n",
    "            Record = 0\n",
    "            Set = Set + 1\n",
    "    \n",
    "        else:\n",
    "            Record = Record + 1\n",
    "            \n",
    "        print(f\"Processing Record {Record} of Set {Set}: {city}\") \n",
    "  \n",
    "    except(KeyError, IndexError):\n",
    "        print(\"City not found. Skipping...\")\n",
    "\n",
    "print(\"-----------------------------\")\n",
    "print(\"Data Retrieval Complete\")\n",
    "print(\"-----------------------------\")"
   ]
  },
  {
   "cell_type": "code",
   "execution_count": 8,
   "metadata": {},
   "outputs": [
    {
     "data": {
      "text/plain": [
       "['Atuona',\n",
       " 'Leningradskiy',\n",
       " 'Busselton',\n",
       " 'Vaini',\n",
       " 'Albany',\n",
       " 'Carnarvon',\n",
       " 'Laguna',\n",
       " 'Ushuaia',\n",
       " 'Hobart',\n",
       " 'Empalme',\n",
       " 'Inuvik',\n",
       " 'Puerto Ayora',\n",
       " 'Isla Vista',\n",
       " 'Dikson',\n",
       " 'Rikitea',\n",
       " 'New Norfolk',\n",
       " 'Benjamin Constant',\n",
       " 'Mirabela',\n",
       " 'Bengkulu',\n",
       " 'Iqaluit',\n",
       " 'Matinha',\n",
       " 'Hostotipaquillo',\n",
       " 'Kapaa',\n",
       " 'Necochea',\n",
       " 'Valle del Guamuez',\n",
       " 'Arlit',\n",
       " 'Zomba',\n",
       " 'Xihe',\n",
       " 'Constitución',\n",
       " 'Tuktoyaktuk',\n",
       " 'Mildura',\n",
       " 'Kropotkin',\n",
       " 'Lompoc',\n",
       " 'Thompson',\n",
       " 'Barrow',\n",
       " 'Taunggyi',\n",
       " 'Naze',\n",
       " 'Hobyo',\n",
       " 'Artyom',\n",
       " 'Port Elizabeth',\n",
       " 'Honningsvåg',\n",
       " 'Hilo',\n",
       " 'Tazovsky',\n",
       " 'Forsytheganj',\n",
       " 'Ixtapa',\n",
       " 'Djibo',\n",
       " 'Camargo',\n",
       " 'Nantucket',\n",
       " 'Tuatapere',\n",
       " 'Kahului',\n",
       " 'Linqing',\n",
       " 'Mar del Plata',\n",
       " 'Sørland',\n",
       " 'Airai',\n",
       " 'Nadvoitsy',\n",
       " 'Hermanus',\n",
       " 'Seoul',\n",
       " 'Ishigaki',\n",
       " 'Cidreira',\n",
       " 'Montélimar',\n",
       " 'Kibre Mengist',\n",
       " 'Lavrentiya',\n",
       " 'Vao',\n",
       " 'Vicuña',\n",
       " 'Namatanai',\n",
       " 'Punta Arenas',\n",
       " 'Saint-Philippe',\n",
       " 'Bloomfield',\n",
       " 'Bluff',\n",
       " 'Yellowknife',\n",
       " 'Praia',\n",
       " 'Port Alfred',\n",
       " 'San Alberto',\n",
       " 'Ostrovnoy',\n",
       " 'Khatanga',\n",
       " 'Saint-Paul',\n",
       " 'La Ronge',\n",
       " 'Westport',\n",
       " 'Severodvinsk',\n",
       " 'Mpongwe',\n",
       " 'Coquimbo',\n",
       " 'Finspång',\n",
       " 'Kailua',\n",
       " 'Hithadhoo',\n",
       " 'Provideniya',\n",
       " 'Tasiilaq',\n",
       " 'Nanortalik',\n",
       " 'Esperance',\n",
       " 'Bilibino',\n",
       " 'Phalaborwa',\n",
       " 'Bherāmāra',\n",
       " 'Mbandaka',\n",
       " 'Bad Windsheim',\n",
       " 'Charleville-Mézières',\n",
       " 'Chui',\n",
       " 'Potsdam',\n",
       " 'Arraial do Cabo',\n",
       " 'Qaanaaq',\n",
       " 'Bo`ka',\n",
       " 'Saskylakh',\n",
       " 'Palmas Bellas',\n",
       " 'São João da Barra',\n",
       " 'Poum',\n",
       " 'Bredasdorp',\n",
       " 'Bud',\n",
       " 'Butaritari',\n",
       " 'Aklavik',\n",
       " 'Nikolskoye',\n",
       " 'Toamasina',\n",
       " 'Liaqatabad',\n",
       " 'Florø',\n",
       " 'Vitry-le-François',\n",
       " 'Auki',\n",
       " 'Businga',\n",
       " 'Beringovskiy',\n",
       " 'Barcelos',\n",
       " 'Hasaki',\n",
       " 'Lebu',\n",
       " 'Noshiro',\n",
       " 'Port Hardy',\n",
       " 'Grand Island',\n",
       " 'Kaitangata',\n",
       " 'Hailin',\n",
       " 'Douglas',\n",
       " 'Cape Town',\n",
       " 'Monrovia',\n",
       " 'Mossamedes',\n",
       " 'Paamiut',\n",
       " 'Lakhtar',\n",
       " 'Petropavlovsk-Kamchatskiy',\n",
       " 'Asahikawa',\n",
       " 'Cascais',\n",
       " 'Ninghai',\n",
       " 'Pevek',\n",
       " 'Atar',\n",
       " 'Kabompo',\n",
       " 'Cabo San Lucas',\n",
       " 'Jonuta',\n",
       " 'Boyolangu',\n",
       " 'Mount Isa',\n",
       " 'Yar-Sale',\n",
       " 'Lüderitz',\n",
       " 'Te Anau',\n",
       " 'Tiksi',\n",
       " 'Doha',\n",
       " 'Takoradze',\n",
       " 'Salalah',\n",
       " \"Yashkul'\",\n",
       " 'East London',\n",
       " 'Nouadhibou',\n",
       " 'Sinaloa',\n",
       " 'Coolum Beach',\n",
       " 'Ponta do Sol',\n",
       " 'Andros Town',\n",
       " 'Muncar',\n",
       " 'Bethel',\n",
       " 'Tottori-shi',\n",
       " \"Mezen'\",\n",
       " 'Jamestown',\n",
       " 'Vaitape',\n",
       " 'Olafsvik',\n",
       " 'Koumac',\n",
       " 'Qinzhou',\n",
       " 'Krasnovishersk',\n",
       " 'Zhangye',\n",
       " 'Brenham',\n",
       " 'Hohhot',\n",
       " 'Oranjemund',\n",
       " 'Saint Anthony',\n",
       " 'Ribeira Grande',\n",
       " 'Beipiao',\n",
       " 'Avarua',\n",
       " 'Torbay',\n",
       " 'Keti Bandar',\n",
       " 'Mahébourg',\n",
       " \"Severo-Kuril'sk\",\n",
       " 'Faanui',\n",
       " 'Tupik',\n",
       " 'Kruisfontein',\n",
       " 'Cherskiy',\n",
       " 'Nador',\n",
       " 'Jérémie',\n",
       " 'Mataura',\n",
       " 'Eyl',\n",
       " 'Vestmannaeyjar',\n",
       " 'Karratha',\n",
       " 'Philadelphia',\n",
       " 'Deputatsky',\n",
       " 'Motygino',\n",
       " 'Los Llanos de Aridane',\n",
       " 'Kyabé',\n",
       " 'Asău',\n",
       " \"Krasnosel'kup\",\n",
       " 'Hualmay',\n",
       " 'Rethymno',\n",
       " 'Chesma',\n",
       " 'Debre Sīna',\n",
       " 'Astoria',\n",
       " 'Manbij',\n",
       " 'Malazgirt',\n",
       " 'Skibbereen',\n",
       " 'Bambous Virieux',\n",
       " 'Neryungri',\n",
       " 'Luleå',\n",
       " 'San Cristobal',\n",
       " 'Arrondissement de Laon',\n",
       " 'Geraldton',\n",
       " 'Avera',\n",
       " 'Boa Vista',\n",
       " 'Fortuna',\n",
       " 'Dessie',\n",
       " 'George Town',\n",
       " 'Pecos',\n",
       " 'Porto-Novo',\n",
       " 'Solnechnyy']"
      ]
     },
     "execution_count": 8,
     "metadata": {},
     "output_type": "execute_result"
    }
   ],
   "source": [
    "City"
   ]
  },
  {
   "cell_type": "markdown",
   "metadata": {},
   "source": [
    "### Convert Raw Data to DataFrame\n",
    "* Export the city data into a .csv.\n",
    "* Display the DataFrame"
   ]
  },
  {
   "cell_type": "code",
   "execution_count": null,
   "metadata": {},
   "outputs": [],
   "source": [
    "#export to csv\n",
    "df.to_csv(\"../output_data/cities.csv\", index = False)"
   ]
  },
  {
   "cell_type": "code",
   "execution_count": 10,
   "metadata": {
    "scrolled": false
   },
   "outputs": [
    {
     "data": {
      "text/html": [
       "<div>\n",
       "<style scoped>\n",
       "    .dataframe tbody tr th:only-of-type {\n",
       "        vertical-align: middle;\n",
       "    }\n",
       "\n",
       "    .dataframe tbody tr th {\n",
       "        vertical-align: top;\n",
       "    }\n",
       "\n",
       "    .dataframe thead th {\n",
       "        text-align: right;\n",
       "    }\n",
       "</style>\n",
       "<table border=\"1\" class=\"dataframe\">\n",
       "  <thead>\n",
       "    <tr style=\"text-align: right;\">\n",
       "      <th></th>\n",
       "      <th>City</th>\n",
       "      <th>Latitude</th>\n",
       "      <th>Longitude</th>\n",
       "      <th>Max Temperature</th>\n",
       "      <th>Humidity</th>\n",
       "      <th>Cloudiness</th>\n",
       "      <th>Wind Speed</th>\n",
       "      <th>Country</th>\n",
       "      <th>Date</th>\n",
       "    </tr>\n",
       "  </thead>\n",
       "  <tbody>\n",
       "    <tr>\n",
       "      <th>0</th>\n",
       "      <td>Atuona</td>\n",
       "      <td>-9.8000</td>\n",
       "      <td>-139.0333</td>\n",
       "      <td>76.53</td>\n",
       "      <td>78</td>\n",
       "      <td>30</td>\n",
       "      <td>17.25</td>\n",
       "      <td>PF</td>\n",
       "      <td>1665826901</td>\n",
       "    </tr>\n",
       "    <tr>\n",
       "      <th>1</th>\n",
       "      <td>Leningradskiy</td>\n",
       "      <td>69.3833</td>\n",
       "      <td>178.4167</td>\n",
       "      <td>11.12</td>\n",
       "      <td>86</td>\n",
       "      <td>71</td>\n",
       "      <td>5.26</td>\n",
       "      <td>RU</td>\n",
       "      <td>1665826902</td>\n",
       "    </tr>\n",
       "    <tr>\n",
       "      <th>2</th>\n",
       "      <td>Busselton</td>\n",
       "      <td>-33.6500</td>\n",
       "      <td>115.3333</td>\n",
       "      <td>57.85</td>\n",
       "      <td>65</td>\n",
       "      <td>20</td>\n",
       "      <td>13.06</td>\n",
       "      <td>AU</td>\n",
       "      <td>1665826902</td>\n",
       "    </tr>\n",
       "    <tr>\n",
       "      <th>3</th>\n",
       "      <td>Vaini</td>\n",
       "      <td>-21.2000</td>\n",
       "      <td>-175.2000</td>\n",
       "      <td>69.96</td>\n",
       "      <td>100</td>\n",
       "      <td>20</td>\n",
       "      <td>2.30</td>\n",
       "      <td>TO</td>\n",
       "      <td>1665826902</td>\n",
       "    </tr>\n",
       "    <tr>\n",
       "      <th>4</th>\n",
       "      <td>Albany</td>\n",
       "      <td>42.6001</td>\n",
       "      <td>-73.9662</td>\n",
       "      <td>41.54</td>\n",
       "      <td>90</td>\n",
       "      <td>4</td>\n",
       "      <td>0.92</td>\n",
       "      <td>US</td>\n",
       "      <td>1665826902</td>\n",
       "    </tr>\n",
       "  </tbody>\n",
       "</table>\n",
       "</div>"
      ],
      "text/plain": [
       "            City  Latitude  Longitude  Max Temperature  Humidity  Cloudiness  \\\n",
       "0         Atuona   -9.8000  -139.0333            76.53        78          30   \n",
       "1  Leningradskiy   69.3833   178.4167            11.12        86          71   \n",
       "2      Busselton  -33.6500   115.3333            57.85        65          20   \n",
       "3          Vaini  -21.2000  -175.2000            69.96       100          20   \n",
       "4         Albany   42.6001   -73.9662            41.54        90           4   \n",
       "\n",
       "   Wind Speed Country        Date  \n",
       "0       17.25      PF  1665826901  \n",
       "1        5.26      RU  1665826902  \n",
       "2       13.06      AU  1665826902  \n",
       "3        2.30      TO  1665826902  \n",
       "4        0.92      US  1665826902  "
      ]
     },
     "execution_count": 10,
     "metadata": {},
     "output_type": "execute_result"
    }
   ],
   "source": [
    "# create df\n",
    "\n",
    "df = pd.DataFrame({\n",
    "    \"City\": City,\n",
    "    \"Latitude\": lat,\n",
    "    \"Longitude\": lng,\n",
    "    \"Max Temperature\": temp,\n",
    "    \"Humidity\": humidity,\n",
    "    \"Cloudiness\": cloud,\n",
    "    \"Wind Speed\": wind,\n",
    "    \"Country\": country,\n",
    "    \"Date\": date\n",
    "})\n",
    "\n",
    "# display df\n",
    "df.head()"
   ]
  },
  {
   "cell_type": "markdown",
   "metadata": {},
   "source": [
    "## Inspect the data and remove the cities where the humidity > 100%.\n",
    "----\n",
    "Skip this step if there are no cities that have humidity > 100%. "
   ]
  },
  {
   "cell_type": "code",
   "execution_count": 11,
   "metadata": {},
   "outputs": [
    {
     "data": {
      "text/html": [
       "<div>\n",
       "<style scoped>\n",
       "    .dataframe tbody tr th:only-of-type {\n",
       "        vertical-align: middle;\n",
       "    }\n",
       "\n",
       "    .dataframe tbody tr th {\n",
       "        vertical-align: top;\n",
       "    }\n",
       "\n",
       "    .dataframe thead th {\n",
       "        text-align: right;\n",
       "    }\n",
       "</style>\n",
       "<table border=\"1\" class=\"dataframe\">\n",
       "  <thead>\n",
       "    <tr style=\"text-align: right;\">\n",
       "      <th></th>\n",
       "      <th>Latitude</th>\n",
       "      <th>Longitude</th>\n",
       "      <th>Max Temperature</th>\n",
       "      <th>Humidity</th>\n",
       "      <th>Cloudiness</th>\n",
       "      <th>Wind Speed</th>\n",
       "      <th>Date</th>\n",
       "    </tr>\n",
       "  </thead>\n",
       "  <tbody>\n",
       "    <tr>\n",
       "      <th>count</th>\n",
       "      <td>215.000000</td>\n",
       "      <td>215.000000</td>\n",
       "      <td>215.000000</td>\n",
       "      <td>215.000000</td>\n",
       "      <td>215.000000</td>\n",
       "      <td>215.000000</td>\n",
       "      <td>2.150000e+02</td>\n",
       "    </tr>\n",
       "    <tr>\n",
       "      <th>mean</th>\n",
       "      <td>20.004447</td>\n",
       "      <td>12.759186</td>\n",
       "      <td>60.496977</td>\n",
       "      <td>73.362791</td>\n",
       "      <td>55.958140</td>\n",
       "      <td>9.034512</td>\n",
       "      <td>1.665827e+09</td>\n",
       "    </tr>\n",
       "    <tr>\n",
       "      <th>std</th>\n",
       "      <td>35.687159</td>\n",
       "      <td>96.494117</td>\n",
       "      <td>19.442751</td>\n",
       "      <td>20.200826</td>\n",
       "      <td>39.899091</td>\n",
       "      <td>5.847913</td>\n",
       "      <td>6.367953e+01</td>\n",
       "    </tr>\n",
       "    <tr>\n",
       "      <th>min</th>\n",
       "      <td>-54.800000</td>\n",
       "      <td>-175.200000</td>\n",
       "      <td>-4.490000</td>\n",
       "      <td>8.000000</td>\n",
       "      <td>0.000000</td>\n",
       "      <td>0.000000</td>\n",
       "      <td>1.665827e+09</td>\n",
       "    </tr>\n",
       "    <tr>\n",
       "      <th>25%</th>\n",
       "      <td>-13.550900</td>\n",
       "      <td>-72.320850</td>\n",
       "      <td>48.120000</td>\n",
       "      <td>65.000000</td>\n",
       "      <td>16.000000</td>\n",
       "      <td>4.610000</td>\n",
       "      <td>1.665827e+09</td>\n",
       "    </tr>\n",
       "    <tr>\n",
       "      <th>50%</th>\n",
       "      <td>25.000000</td>\n",
       "      <td>18.944900</td>\n",
       "      <td>63.570000</td>\n",
       "      <td>78.000000</td>\n",
       "      <td>66.000000</td>\n",
       "      <td>8.010000</td>\n",
       "      <td>1.665827e+09</td>\n",
       "    </tr>\n",
       "    <tr>\n",
       "      <th>75%</th>\n",
       "      <td>49.116650</td>\n",
       "      <td>100.393550</td>\n",
       "      <td>76.295000</td>\n",
       "      <td>88.000000</td>\n",
       "      <td>99.500000</td>\n",
       "      <td>12.660000</td>\n",
       "      <td>1.665827e+09</td>\n",
       "    </tr>\n",
       "    <tr>\n",
       "      <th>max</th>\n",
       "      <td>77.484000</td>\n",
       "      <td>179.316700</td>\n",
       "      <td>97.110000</td>\n",
       "      <td>100.000000</td>\n",
       "      <td>100.000000</td>\n",
       "      <td>31.070000</td>\n",
       "      <td>1.665827e+09</td>\n",
       "    </tr>\n",
       "  </tbody>\n",
       "</table>\n",
       "</div>"
      ],
      "text/plain": [
       "         Latitude   Longitude  Max Temperature    Humidity  Cloudiness  \\\n",
       "count  215.000000  215.000000       215.000000  215.000000  215.000000   \n",
       "mean    20.004447   12.759186        60.496977   73.362791   55.958140   \n",
       "std     35.687159   96.494117        19.442751   20.200826   39.899091   \n",
       "min    -54.800000 -175.200000        -4.490000    8.000000    0.000000   \n",
       "25%    -13.550900  -72.320850        48.120000   65.000000   16.000000   \n",
       "50%     25.000000   18.944900        63.570000   78.000000   66.000000   \n",
       "75%     49.116650  100.393550        76.295000   88.000000   99.500000   \n",
       "max     77.484000  179.316700        97.110000  100.000000  100.000000   \n",
       "\n",
       "       Wind Speed          Date  \n",
       "count  215.000000  2.150000e+02  \n",
       "mean     9.034512  1.665827e+09  \n",
       "std      5.847913  6.367953e+01  \n",
       "min      0.000000  1.665827e+09  \n",
       "25%      4.610000  1.665827e+09  \n",
       "50%      8.010000  1.665827e+09  \n",
       "75%     12.660000  1.665827e+09  \n",
       "max     31.070000  1.665827e+09  "
      ]
     },
     "execution_count": 11,
     "metadata": {},
     "output_type": "execute_result"
    }
   ],
   "source": [
    "df.describe()"
   ]
  },
  {
   "cell_type": "code",
   "execution_count": 14,
   "metadata": {},
   "outputs": [],
   "source": [
    "# remove the cities where the humidity is >100%\n",
    "# humidity_100 = []"
   ]
  },
  {
   "cell_type": "code",
   "execution_count": null,
   "metadata": {},
   "outputs": [],
   "source": [
    "#  Get the indices of cities that have humidity over 100%.\n"
   ]
  },
  {
   "cell_type": "code",
   "execution_count": null,
   "metadata": {},
   "outputs": [],
   "source": [
    "# Make a new DataFrame equal to the city data to drop all humidity outliers by index.\n",
    "# Passing \"inplace=False\" will make a copy of the city_data DataFrame, which we call \"clean_city_data\".\n"
   ]
  },
  {
   "cell_type": "markdown",
   "metadata": {},
   "source": [
    "## Plotting the Data\n",
    "* Use proper labeling of the plots using plot titles (including date of analysis) and axes labels.\n",
    "* Save the plotted figures as .pngs."
   ]
  },
  {
   "cell_type": "code",
   "execution_count": 19,
   "metadata": {},
   "outputs": [
    {
     "data": {
      "text/plain": [
       "Index(['City', 'Latitude', 'Longitude', 'Max Temperature', 'Humidity',\n",
       "       'Cloudiness', 'Wind Speed', 'Country', 'Date'],\n",
       "      dtype='object')"
      ]
     },
     "execution_count": 19,
     "metadata": {},
     "output_type": "execute_result"
    }
   ],
   "source": [
    "df.columns"
   ]
  },
  {
   "cell_type": "markdown",
   "metadata": {},
   "source": [
    "## Latitude vs. Temperature Plot"
   ]
  },
  {
   "cell_type": "code",
   "execution_count": 35,
   "metadata": {
    "scrolled": true
   },
   "outputs": [
    {
     "data": {
      "image/png": "[encoded data removed]",
      "text/plain": [
       "<Figure size 432x288 with 1 Axes>"
      ]
     },
     "metadata": {
      "needs_background": "light"
     },
     "output_type": "display_data"
    },
    {
     "name": "stdout",
     "output_type": "stream",
     "text": [
      "The Maximum Temperature (F) by City Latitude scatter plot shows that the maximum temperature (F) peaks around 0 latitiude, but drops either ends of the latitude in an inverted U shape.\n"
     ]
    }
   ],
   "source": [
    "x_value = df[\"Latitude\"]\n",
    "y_value = df[\"Max Temperature\"]\n",
    "\n",
    "plt.scatter(x_value, y_value, alpha = 0.6, edgecolors = \"navy\")\n",
    "plt.title(\"Maximum Temperature (F) by City Latitude\")\n",
    "plt.xlabel(\"Latitude\")\n",
    "plt.ylabel(\"Max Temperature (F)\")\n",
    "plt.grid()\n",
    "plt.show()\n",
    "\n",
    "print(\"The Maximum Temperature (F) by City Latitude scatter plot shows the change in maximum temperature against city latitude\")"
   ]
  },
  {
   "cell_type": "markdown",
   "metadata": {},
   "source": [
    "## Latitude vs. Humidity Plot"
   ]
  },
  {
   "cell_type": "code",
   "execution_count": 37,
   "metadata": {},
   "outputs": [
    {
     "data": {
      "image/png": "[encoded data removed]",
      "text/plain": [
       "<Figure size 432x288 with 1 Axes>"
      ]
     },
     "metadata": {
      "needs_background": "light"
     },
     "output_type": "display_data"
    },
    {
     "name": "stdout",
     "output_type": "stream",
     "text": [
      "The Humidity (%) by City Latitude scatter plot shows the change in humidity against city latitude.\n"
     ]
    }
   ],
   "source": [
    "x_value = df[\"Latitude\"]\n",
    "y_value = df[\"Humidity\"]\n",
    "\n",
    "plt.scatter(x_value, y_value, alpha = 0.6, edgecolors = \"navy\")\n",
    "plt.title(\"The Humidity (%) by City Latitude\")\n",
    "plt.xlabel(\"Latitude\")\n",
    "plt.ylabel(\"Humidity (%)\")\n",
    "plt.grid()\n",
    "plt.show()\n",
    "\n",
    "print(\"The Humidity (%) by City Latitude scatter plot shows the change in humidity against city latitude.\")"
   ]
  },
  {
   "cell_type": "markdown",
   "metadata": {},
   "source": [
    "## Latitude vs. Cloudiness Plot"
   ]
  },
  {
   "cell_type": "code",
   "execution_count": 38,
   "metadata": {},
   "outputs": [
    {
     "data": {
      "image/png": "[encoded data removed]",
      "text/plain": [
       "<Figure size 432x288 with 1 Axes>"
      ]
     },
     "metadata": {
      "needs_background": "light"
     },
     "output_type": "display_data"
    },
    {
     "name": "stdout",
     "output_type": "stream",
     "text": [
      "The Cloudiness (%) by City Latitude scatter plot shows the change in cloudiness against city latitude.\n"
     ]
    }
   ],
   "source": [
    "x_value = df[\"Latitude\"]\n",
    "y_value = df[\"Cloudiness\"]\n",
    "\n",
    "plt.scatter(x_value, y_value, alpha = 0.6, edgecolors = \"navy\")\n",
    "plt.title(\"The Cloudiness (%) by City Latitude\")\n",
    "plt.xlabel(\"Latitude\")\n",
    "plt.ylabel(\"Cloudiness (%)\")\n",
    "plt.grid()\n",
    "plt.show()\n",
    "\n",
    "print(\"The Cloudiness (%) by City Latitude scatter plot shows the change in cloudiness against city latitude.\")"
   ]
  },
  {
   "cell_type": "markdown",
   "metadata": {},
   "source": [
    "## Latitude vs. Wind Speed Plot"
   ]
  },
  {
   "cell_type": "code",
   "execution_count": 39,
   "metadata": {},
   "outputs": [
    {
     "data": {
      "text/plain": [
       "Index(['City', 'Latitude', 'Longitude', 'Max Temperature', 'Humidity',\n",
       "       'Cloudiness', 'Wind Speed', 'Country', 'Date'],\n",
       "      dtype='object')"
      ]
     },
     "execution_count": 39,
     "metadata": {},
     "output_type": "execute_result"
    }
   ],
   "source": [
    "df.columns"
   ]
  },
  {
   "cell_type": "code",
   "execution_count": 41,
   "metadata": {},
   "outputs": [
    {
     "data": {
      "image/png": "[encoded data removed]",
      "text/plain": [
       "<Figure size 432x288 with 1 Axes>"
      ]
     },
     "metadata": {
      "needs_background": "light"
     },
     "output_type": "display_data"
    },
    {
     "name": "stdout",
     "output_type": "stream",
     "text": [
      "The Windspeed by City Latitude scatter plot shows the change in wind speed against city latitude.\n"
     ]
    }
   ],
   "source": [
    "x_value = df[\"Latitude\"]\n",
    "y_value = df[\"Wind Speed\"]\n",
    "\n",
    "plt.scatter(x_value, y_value, alpha = 0.6, edgecolors = \"navy\")\n",
    "plt.title(\"Wind Speed (mph) by City Latitude\")\n",
    "plt.xlabel(\"Latitude\")\n",
    "plt.ylabel(\"Wind Speed (mph)\")\n",
    "plt.grid()\n",
    "plt.show()\n",
    "\n",
    "print(\"The Windspeed by City Latitude scatter plot shows the change in wind speed against city latitude.\")"
   ]
  },
  {
   "cell_type": "markdown",
   "metadata": {},
   "source": [
    "## Linear Regression"
   ]
  },
  {
   "cell_type": "code",
   "execution_count": 94,
   "metadata": {},
   "outputs": [],
   "source": [
    "# Northern Hemisphere (greater than or equal to 0 degrees latitude)\n",
    "north = df.loc[df[\"Latitude\"] >= 0]\n",
    "# Southern Hemisphere (less than 0 degrees latitude)\n",
    "south = df.loc[df[\"Latitude\"] < 0]"
   ]
  },
  {
   "cell_type": "code",
   "execution_count": 95,
   "metadata": {},
   "outputs": [
    {
     "data": {
      "text/html": [
       "<div>\n",
       "<style scoped>\n",
       "    .dataframe tbody tr th:only-of-type {\n",
       "        vertical-align: middle;\n",
       "    }\n",
       "\n",
       "    .dataframe tbody tr th {\n",
       "        vertical-align: top;\n",
       "    }\n",
       "\n",
       "    .dataframe thead th {\n",
       "        text-align: right;\n",
       "    }\n",
       "</style>\n",
       "<table border=\"1\" class=\"dataframe\">\n",
       "  <thead>\n",
       "    <tr style=\"text-align: right;\">\n",
       "      <th></th>\n",
       "      <th>City</th>\n",
       "      <th>Latitude</th>\n",
       "      <th>Longitude</th>\n",
       "      <th>Max Temperature</th>\n",
       "      <th>Humidity</th>\n",
       "      <th>Cloudiness</th>\n",
       "      <th>Wind Speed</th>\n",
       "      <th>Country</th>\n",
       "      <th>Date</th>\n",
       "    </tr>\n",
       "  </thead>\n",
       "  <tbody>\n",
       "    <tr>\n",
       "      <th>1</th>\n",
       "      <td>Leningradskiy</td>\n",
       "      <td>69.3833</td>\n",
       "      <td>178.4167</td>\n",
       "      <td>11.12</td>\n",
       "      <td>86</td>\n",
       "      <td>71</td>\n",
       "      <td>5.26</td>\n",
       "      <td>RU</td>\n",
       "      <td>1665826902</td>\n",
       "    </tr>\n",
       "    <tr>\n",
       "      <th>4</th>\n",
       "      <td>Albany</td>\n",
       "      <td>42.6001</td>\n",
       "      <td>-73.9662</td>\n",
       "      <td>41.54</td>\n",
       "      <td>90</td>\n",
       "      <td>4</td>\n",
       "      <td>0.92</td>\n",
       "      <td>US</td>\n",
       "      <td>1665826902</td>\n",
       "    </tr>\n",
       "    <tr>\n",
       "      <th>6</th>\n",
       "      <td>Laguna</td>\n",
       "      <td>38.4210</td>\n",
       "      <td>-121.4238</td>\n",
       "      <td>66.94</td>\n",
       "      <td>83</td>\n",
       "      <td>0</td>\n",
       "      <td>5.75</td>\n",
       "      <td>US</td>\n",
       "      <td>1665826902</td>\n",
       "    </tr>\n",
       "    <tr>\n",
       "      <th>9</th>\n",
       "      <td>Empalme</td>\n",
       "      <td>27.9667</td>\n",
       "      <td>-110.8167</td>\n",
       "      <td>76.35</td>\n",
       "      <td>71</td>\n",
       "      <td>4</td>\n",
       "      <td>8.48</td>\n",
       "      <td>MX</td>\n",
       "      <td>1665826902</td>\n",
       "    </tr>\n",
       "    <tr>\n",
       "      <th>10</th>\n",
       "      <td>Inuvik</td>\n",
       "      <td>68.3499</td>\n",
       "      <td>-133.7218</td>\n",
       "      <td>20.41</td>\n",
       "      <td>89</td>\n",
       "      <td>0</td>\n",
       "      <td>5.75</td>\n",
       "      <td>CA</td>\n",
       "      <td>1665826764</td>\n",
       "    </tr>\n",
       "  </tbody>\n",
       "</table>\n",
       "</div>"
      ],
      "text/plain": [
       "             City  Latitude  Longitude  Max Temperature  Humidity  Cloudiness  \\\n",
       "1   Leningradskiy   69.3833   178.4167            11.12        86          71   \n",
       "4          Albany   42.6001   -73.9662            41.54        90           4   \n",
       "6          Laguna   38.4210  -121.4238            66.94        83           0   \n",
       "9         Empalme   27.9667  -110.8167            76.35        71           4   \n",
       "10         Inuvik   68.3499  -133.7218            20.41        89           0   \n",
       "\n",
       "    Wind Speed Country        Date  \n",
       "1         5.26      RU  1665826902  \n",
       "4         0.92      US  1665826902  \n",
       "6         5.75      US  1665826902  \n",
       "9         8.48      MX  1665826902  \n",
       "10        5.75      CA  1665826764  "
      ]
     },
     "execution_count": 95,
     "metadata": {},
     "output_type": "execute_result"
    }
   ],
   "source": [
    "north.head()"
   ]
  },
  {
   "cell_type": "code",
   "execution_count": 96,
   "metadata": {},
   "outputs": [
    {
     "data": {
      "text/html": [
       "<div>\n",
       "<style scoped>\n",
       "    .dataframe tbody tr th:only-of-type {\n",
       "        vertical-align: middle;\n",
       "    }\n",
       "\n",
       "    .dataframe tbody tr th {\n",
       "        vertical-align: top;\n",
       "    }\n",
       "\n",
       "    .dataframe thead th {\n",
       "        text-align: right;\n",
       "    }\n",
       "</style>\n",
       "<table border=\"1\" class=\"dataframe\">\n",
       "  <thead>\n",
       "    <tr style=\"text-align: right;\">\n",
       "      <th></th>\n",
       "      <th>City</th>\n",
       "      <th>Latitude</th>\n",
       "      <th>Longitude</th>\n",
       "      <th>Max Temperature</th>\n",
       "      <th>Humidity</th>\n",
       "      <th>Cloudiness</th>\n",
       "      <th>Wind Speed</th>\n",
       "      <th>Country</th>\n",
       "      <th>Date</th>\n",
       "    </tr>\n",
       "  </thead>\n",
       "  <tbody>\n",
       "    <tr>\n",
       "      <th>0</th>\n",
       "      <td>Atuona</td>\n",
       "      <td>-9.8000</td>\n",
       "      <td>-139.0333</td>\n",
       "      <td>76.53</td>\n",
       "      <td>78</td>\n",
       "      <td>30</td>\n",
       "      <td>17.25</td>\n",
       "      <td>PF</td>\n",
       "      <td>1665826901</td>\n",
       "    </tr>\n",
       "    <tr>\n",
       "      <th>2</th>\n",
       "      <td>Busselton</td>\n",
       "      <td>-33.6500</td>\n",
       "      <td>115.3333</td>\n",
       "      <td>57.85</td>\n",
       "      <td>65</td>\n",
       "      <td>20</td>\n",
       "      <td>13.06</td>\n",
       "      <td>AU</td>\n",
       "      <td>1665826902</td>\n",
       "    </tr>\n",
       "    <tr>\n",
       "      <th>3</th>\n",
       "      <td>Vaini</td>\n",
       "      <td>-21.2000</td>\n",
       "      <td>-175.2000</td>\n",
       "      <td>69.96</td>\n",
       "      <td>100</td>\n",
       "      <td>20</td>\n",
       "      <td>2.30</td>\n",
       "      <td>TO</td>\n",
       "      <td>1665826902</td>\n",
       "    </tr>\n",
       "    <tr>\n",
       "      <th>5</th>\n",
       "      <td>Carnarvon</td>\n",
       "      <td>-24.8667</td>\n",
       "      <td>113.6333</td>\n",
       "      <td>68.79</td>\n",
       "      <td>62</td>\n",
       "      <td>0</td>\n",
       "      <td>17.13</td>\n",
       "      <td>AU</td>\n",
       "      <td>1665826902</td>\n",
       "    </tr>\n",
       "    <tr>\n",
       "      <th>7</th>\n",
       "      <td>Ushuaia</td>\n",
       "      <td>-54.8000</td>\n",
       "      <td>-68.3000</td>\n",
       "      <td>40.66</td>\n",
       "      <td>81</td>\n",
       "      <td>40</td>\n",
       "      <td>21.85</td>\n",
       "      <td>AR</td>\n",
       "      <td>1665826902</td>\n",
       "    </tr>\n",
       "  </tbody>\n",
       "</table>\n",
       "</div>"
      ],
      "text/plain": [
       "        City  Latitude  Longitude  Max Temperature  Humidity  Cloudiness  \\\n",
       "0     Atuona   -9.8000  -139.0333            76.53        78          30   \n",
       "2  Busselton  -33.6500   115.3333            57.85        65          20   \n",
       "3      Vaini  -21.2000  -175.2000            69.96       100          20   \n",
       "5  Carnarvon  -24.8667   113.6333            68.79        62           0   \n",
       "7    Ushuaia  -54.8000   -68.3000            40.66        81          40   \n",
       "\n",
       "   Wind Speed Country        Date  \n",
       "0       17.25      PF  1665826901  \n",
       "2       13.06      AU  1665826902  \n",
       "3        2.30      TO  1665826902  \n",
       "5       17.13      AU  1665826902  \n",
       "7       21.85      AR  1665826902  "
      ]
     },
     "execution_count": 96,
     "metadata": {},
     "output_type": "execute_result"
    }
   ],
   "source": [
    "south.head()"
   ]
  },
  {
   "cell_type": "markdown",
   "metadata": {},
   "source": [
    "####  Northern Hemisphere - Max Temp vs. Latitude Linear Regression"
   ]
  },
  {
   "cell_type": "code",
   "execution_count": 108,
   "metadata": {},
   "outputs": [
    {
     "data": {
      "image/png": "[encoded data removed]",
      "text/plain": [
       "<Figure size 432x288 with 1 Axes>"
      ]
     },
     "metadata": {
      "needs_background": "light"
     },
     "output_type": "display_data"
    },
    {
     "data": {
      "text/plain": [
       "<Figure size 432x288 with 0 Axes>"
      ]
     },
     "metadata": {},
     "output_type": "display_data"
    }
   ],
   "source": [
    "x_value = north[\"Latitude\"]\n",
    "y_value = north[\"Max Temperature\"]\n",
    "\n",
    "linreg = linregress(x_value, y_value)\n",
    "slope, intercept, rvalue, pvalue, stderr = linreg\n",
    "n_equation = 'y = ' + str(round(slope, 2)) + 'x + ' + str(round(intercept, 2))\n",
    "regress = x_value * slope + intercept\n",
    "\n",
    "plt.scatter(x_value, y_value, alpha = 0.6, edgecolors = \"navy\")\n",
    "plt.plot(x_value, regress, color = \"pink\")\n",
    "\n",
    "plt.title(\"Northern Hemisphere: Maximum Temperature (F) by City Latitude\")\n",
    "plt.xlabel(\"Latitude\")\n",
    "plt.ylabel(\"Maximum Temperature (F)\")\n",
    "plt.annotate(n_equation, (0,0), fontsize = 12, color = \"red\")\n",
    "plt.grid()\n",
    "plt.show()\n",
    "plt.savefig(\"North Lat x Temp.png\")"
   ]
  },
  {
   "cell_type": "markdown",
   "metadata": {},
   "source": [
    "####  Southern Hemisphere - Max Temp vs. Latitude Linear Regression"
   ]
  },
  {
   "cell_type": "code",
   "execution_count": 109,
   "metadata": {},
   "outputs": [
    {
     "data": {
      "image/png": "[encoded data removed]",
      "text/plain": [
       "<Figure size 432x288 with 1 Axes>"
      ]
     },
     "metadata": {
      "needs_background": "light"
     },
     "output_type": "display_data"
    },
    {
     "data": {
      "text/plain": [
       "<Figure size 432x288 with 0 Axes>"
      ]
     },
     "metadata": {},
     "output_type": "display_data"
    }
   ],
   "source": [
    "x_value = south[\"Latitude\"]\n",
    "y_value = south[\"Max Temperature\"]\n",
    "\n",
    "linreg = linregress(x_value, y_value)\n",
    "slope, intercept, rvalue, pvalue, stderr = linreg\n",
    "s_equation = 'y = ' + str(round(slope, 2)) + 'x + ' + str(round(intercept, 2))\n",
    "regress = x_value * slope + intercept\n",
    "\n",
    "plt.scatter(x_value, y_value, alpha = 0.6, edgecolors = \"navy\")\n",
    "plt.plot(x_value, regress, color = \"pink\")\n",
    "\n",
    "plt.title(\"Southern Hemisphere: Maximum Temperature (F) by City Latitude\")\n",
    "plt.xlabel(\"Latitude\")\n",
    "plt.ylabel(\"Maximum Temperature (F)\")\n",
    "plt.annotate(s_equation, (-20,40), fontsize = 12, color = \"red\")\n",
    "plt.grid()\n",
    "plt.show()\n",
    "plt.savefig(\"South Lat x Temp.png\")"
   ]
  },
  {
   "cell_type": "code",
   "execution_count": 117,
   "metadata": {},
   "outputs": [
    {
     "name": "stdout",
     "output_type": "stream",
     "text": [
      "These scatter plots show the change in maximum temperature (F) against city latitude by Northern and Southern Hemisphere. The Northern Hemisphere linear regression equation is: y = 0.19x + 65.99, whilst the Southern Hemisphere linear equation is: y = -0.24x + 66.74. The Northern Hemisphere shows a negative correlation, however the Sothern Hemisphere shows a positive correlaton; suggesting that the closer the latitude to the equator, the higher the maximum temperature (F).\n"
     ]
    }
   ],
   "source": [
    "# After each pair of plots, explain what the linear regression is modeling. For example, describe any relationships that you notice and any other findings you may have.\n",
    "\n",
    "print(f\"These scatter plots show the change in maximum temperature (F) against city latitude by Northern and Southern Hemisphere. The Northern Hemisphere linear regression equation is: {n_equation}, whilst the Southern Hemisphere linear equation is: {s_equation}. The Northern Hemisphere shows a negative correlation, however the Sothern Hemisphere shows a positive correlaton; suggesting that the closer the latitude to the equator, the higher the maximum temperature (F).\")"
   ]
  },
  {
   "cell_type": "markdown",
   "metadata": {},
   "source": [
    "####  Northern Hemisphere - Humidity (%) vs. Latitude Linear Regression"
   ]
  },
  {
   "cell_type": "code",
   "execution_count": 112,
   "metadata": {},
   "outputs": [
    {
     "data": {
      "image/png": "[encoded data removed]",
      "text/plain": [
       "<Figure size 432x288 with 1 Axes>"
      ]
     },
     "metadata": {
      "needs_background": "light"
     },
     "output_type": "display_data"
    },
    {
     "data": {
      "text/plain": [
       "<Figure size 432x288 with 0 Axes>"
      ]
     },
     "metadata": {},
     "output_type": "display_data"
    }
   ],
   "source": [
    "x_value = north[\"Latitude\"]\n",
    "y_value = north[\"Humidity\"]\n",
    "\n",
    "linreg = linregress(x_value, y_value)\n",
    "slope, intercept, rvalue, pvalue, stderr = linreg\n",
    "n_equation = 'y = ' + str(round(slope, 2)) + 'x + ' + str(round(intercept, 2))\n",
    "regress = x_value * slope + intercept\n",
    "\n",
    "plt.scatter(x_value, y_value, alpha = 0.6, edgecolors = \"navy\")\n",
    "plt.plot(x_value, regress, color = \"pink\")\n",
    "\n",
    "plt.title(\"Northern Hemisphere: Humidity (%) by City Latitude\")\n",
    "plt.xlabel(\"Latitude\")\n",
    "plt.ylabel(\"Humidity (%)\")\n",
    "plt.annotate(n_equation, (50,20), fontsize = 12, color = \"red\")\n",
    "plt.grid()\n",
    "plt.show()\n",
    "plt.savefig(\"North Lat x Humidity.png\")"
   ]
  },
  {
   "cell_type": "markdown",
   "metadata": {},
   "source": [
    "####  Southern Hemisphere - Humidity (%) vs. Latitude Linear Regression"
   ]
  },
  {
   "cell_type": "code",
   "execution_count": 116,
   "metadata": {},
   "outputs": [
    {
     "data": {
      "image/png": "[encoded data removed]",
      "text/plain": [
       "<Figure size 432x288 with 1 Axes>"
      ]
     },
     "metadata": {
      "needs_background": "light"
     },
     "output_type": "display_data"
    },
    {
     "data": {
      "text/plain": [
       "<Figure size 432x288 with 0 Axes>"
      ]
     },
     "metadata": {},
     "output_type": "display_data"
    }
   ],
   "source": [
    "x_value = south[\"Latitude\"]\n",
    "y_value = south[\"Humidity\"]\n",
    "\n",
    "linreg = linregress(x_value, y_value)\n",
    "slope, intercept, rvalue, pvalue, stderr = linreg\n",
    "s_equation = 'y = ' + str(round(slope, 2)) + 'x + ' + str(round(intercept, 2))\n",
    "regress = x_value * slope + intercept\n",
    "\n",
    "plt.scatter(x_value, y_value, alpha = 0.6, edgecolors = \"navy\")\n",
    "plt.plot(x_value, regress, color = \"pink\")\n",
    "\n",
    "plt.title(\"Southern Hemisphere: Humidity (%) by City Latitude\")\n",
    "plt.xlabel(\"Latitude\")\n",
    "plt.ylabel(\"Humidity (%)\")\n",
    "plt.annotate(s_equation, (-55,20), fontsize = 12, color = \"red\")\n",
    "plt.grid()\n",
    "plt.show()\n",
    "plt.savefig(\"South Lat x Humidity.png\")"
   ]
  },
  {
   "cell_type": "code",
   "execution_count": 118,
   "metadata": {},
   "outputs": [
    {
     "name": "stdout",
     "output_type": "stream",
     "text": [
      "These scatter plots show the change in humidity percentage against city latitude by Northern and Southern Hemisphere. The Northern Hemisphere linear regression equation is: y = 0.19x + 65.99, whilst the Southern Hemisphere linear equation is: y = -0.24x + 66.74. The Northern Hemisphere shows a positive correlation, however the Sothern Hemisphere shows a negative correlaton; suggesting that the closer the latitude to the equator, the lower the humidity percentage, but it still remains higher than 60%.\n"
     ]
    }
   ],
   "source": [
    "# After each pair of plots, explain what the linear regression is modeling. For example, describe any relationships that you notice and any other findings you may have.\n",
    "\n",
    "print(f\"These scatter plots show the change in humidity percentage against city latitude by Northern and Southern Hemisphere. The Northern Hemisphere linear regression equation is: {n_equation}, whilst the Southern Hemisphere linear equation is: {s_equation}. The Northern Hemisphere shows a positive correlation, however the Sothern Hemisphere shows a negative correlaton; suggesting that the closer the latitude to the equator, the lower the humidity percentage, but it still remains higher than 60%.\")"
   ]
  },
  {
   "cell_type": "markdown",
   "metadata": {},
   "source": [
    "####  Northern Hemisphere - Cloudiness (%) vs. Latitude Linear Regression"
   ]
  },
  {
   "cell_type": "code",
   "execution_count": 123,
   "metadata": {},
   "outputs": [
    {
     "data": {
      "image/png": "[encoded data removed]",
      "text/plain": [
       "<Figure size 432x288 with 1 Axes>"
      ]
     },
     "metadata": {
      "needs_background": "light"
     },
     "output_type": "display_data"
    },
    {
     "data": {
      "text/plain": [
       "<Figure size 432x288 with 0 Axes>"
      ]
     },
     "metadata": {},
     "output_type": "display_data"
    }
   ],
   "source": [
    "x_value = north[\"Latitude\"]\n",
    "y_value = north[\"Cloudiness\"]\n",
    "\n",
    "linreg = linregress(x_value, y_value)\n",
    "slope, intercept, rvalue, pvalue, stderr = linreg\n",
    "n_equation = 'y = ' + str(round(slope, 2)) + 'x + ' + str(round(intercept, 2))\n",
    "regress = x_value * slope + intercept\n",
    "\n",
    "plt.scatter(x_value, y_value, alpha = 0.6, edgecolors = \"navy\")\n",
    "plt.plot(x_value, regress, color = \"pink\")\n",
    "\n",
    "plt.title(\"Northern Hemisphere: Cloudiness (%) by City Latitude\")\n",
    "plt.xlabel(\"Latitude\")\n",
    "plt.ylabel(\"Cloudiness (%)\")\n",
    "plt.annotate(n_equation, (0,65), fontsize = 12, color = \"red\")\n",
    "plt.grid()\n",
    "plt.show()\n",
    "plt.savefig(\"North Lat x Cloudiness.png\")"
   ]
  },
  {
   "cell_type": "markdown",
   "metadata": {},
   "source": [
    "####  Southern Hemisphere - Cloudiness (%) vs. Latitude Linear Regression"
   ]
  },
  {
   "cell_type": "code",
   "execution_count": 126,
   "metadata": {},
   "outputs": [
    {
     "data": {
      "image/png": "[encoded data removed]",
      "text/plain": [
       "<Figure size 432x288 with 1 Axes>"
      ]
     },
     "metadata": {
      "needs_background": "light"
     },
     "output_type": "display_data"
    },
    {
     "data": {
      "text/plain": [
       "<Figure size 432x288 with 0 Axes>"
      ]
     },
     "metadata": {},
     "output_type": "display_data"
    }
   ],
   "source": [
    "x_value = south[\"Latitude\"]\n",
    "y_value = south[\"Cloudiness\"]\n",
    "\n",
    "linreg = linregress(x_value, y_value)\n",
    "slope, intercept, rvalue, pvalue, stderr = linreg\n",
    "s_equation = 'y = ' + str(round(slope, 2)) + 'x + ' + str(round(intercept, 2))\n",
    "regress = x_value * slope + intercept\n",
    "\n",
    "plt.scatter(x_value, y_value, alpha = 0.6, edgecolors = \"navy\")\n",
    "plt.plot(x_value, regress, color = \"pink\")\n",
    "\n",
    "plt.title(\"Southern Hemisphere: Cloudiness (%) by City Latitude\")\n",
    "plt.xlabel(\"Latitude\")\n",
    "plt.ylabel(\"Cloudiness (%)\")\n",
    "plt.annotate(s_equation, (-55,10), fontsize = 12, color = \"red\")\n",
    "plt.grid()\n",
    "plt.show()\n",
    "plt.savefig(\"South Lat x Cloudiness.png\")"
   ]
  },
  {
   "cell_type": "code",
   "execution_count": 127,
   "metadata": {},
   "outputs": [
    {
     "name": "stdout",
     "output_type": "stream",
     "text": [
      "These scatter plots show the change in cloudiness percentage against city latitude by Northern and Southern Hemisphere. The Northern Hemisphere linear regression equation is: y = 0.3x + 45.8, whilst the Southern Hemisphere linear equation is: y = 0.31x + 59.19. The Northern and Southern Hemisphere both show a slight positive correlaton; suggesting that the further south, the higher the cloudiness percentage.\n"
     ]
    }
   ],
   "source": [
    "# After each pair of plots, explain what the linear regression is modeling. For example, describe any relationships that you notice and any other findings you may have.\n",
    "\n",
    "print(f\"These scatter plots show the change in cloudiness percentage against city latitude by Northern and Southern Hemisphere. The Northern Hemisphere linear regression equation is: {n_equation}, whilst the Southern Hemisphere linear equation is: {s_equation}. The Northern and Southern Hemisphere both show a slight positive correlaton; suggesting that the further south, the higher the cloudiness percentage.\")"
   ]
  },
  {
   "cell_type": "markdown",
   "metadata": {},
   "source": [
    "####  Northern Hemisphere - Wind Speed (mph) vs. Latitude Linear Regression"
   ]
  },
  {
   "cell_type": "code",
   "execution_count": 131,
   "metadata": {},
   "outputs": [
    {
     "data": {
      "image/png": "[encoded data removed]",
      "text/plain": [
       "<Figure size 432x288 with 1 Axes>"
      ]
     },
     "metadata": {
      "needs_background": "light"
     },
     "output_type": "display_data"
    },
    {
     "data": {
      "text/plain": [
       "<Figure size 432x288 with 0 Axes>"
      ]
     },
     "metadata": {},
     "output_type": "display_data"
    }
   ],
   "source": [
    "x_value = north[\"Latitude\"]\n",
    "y_value = north[\"Wind Speed\"]\n",
    "\n",
    "linreg = linregress(x_value, y_value)\n",
    "slope, intercept, rvalue, pvalue, stderr = linreg\n",
    "n_equation = 'y = ' + str(round(slope, 2)) + 'x + ' + str(round(intercept, 2))\n",
    "regress = x_value * slope + intercept\n",
    "\n",
    "plt.scatter(x_value, y_value, alpha = 0.6, edgecolors = \"navy\")\n",
    "plt.plot(x_value, regress, color = \"pink\")\n",
    "\n",
    "plt.title(\"Northern Hemisphere: Wind Speed (mph) by City Latitude\")\n",
    "plt.xlabel(\"Latitude\")\n",
    "plt.ylabel(\"Wind Speed (mph)\")\n",
    "plt.annotate(n_equation, (0,25), fontsize = 12, color = \"red\")\n",
    "plt.grid()\n",
    "plt.show()\n",
    "plt.savefig(\"North Lat x Wind.png\")"
   ]
  },
  {
   "cell_type": "markdown",
   "metadata": {},
   "source": [
    "####  Southern Hemisphere - Wind Speed (mph) vs. Latitude Linear Regression"
   ]
  },
  {
   "cell_type": "code",
   "execution_count": 133,
   "metadata": {},
   "outputs": [
    {
     "data": {
      "image/png": "[encoded data removed]",
      "text/plain": [
       "<Figure size 432x288 with 1 Axes>"
      ]
     },
     "metadata": {
      "needs_background": "light"
     },
     "output_type": "display_data"
    },
    {
     "data": {
      "text/plain": [
       "<Figure size 432x288 with 0 Axes>"
      ]
     },
     "metadata": {},
     "output_type": "display_data"
    }
   ],
   "source": [
    "x_value = south[\"Latitude\"]\n",
    "y_value = south[\"Wind Speed\"]\n",
    "\n",
    "linreg = linregress(x_value, y_value)\n",
    "slope, intercept, rvalue, pvalue, stderr = linreg\n",
    "s_equation = 'y = ' + str(round(slope, 2)) + 'x + ' + str(round(intercept, 2))\n",
    "regress = x_value * slope + intercept\n",
    "\n",
    "plt.scatter(x_value, y_value, alpha = 0.6, edgecolors = \"navy\")\n",
    "plt.plot(x_value, regress, color = \"pink\")\n",
    "\n",
    "plt.title(\"Southern Hemisphere: Wind Speed (mph) by City Latitude\")\n",
    "plt.xlabel(\"Latitude\")\n",
    "plt.ylabel(\"Wind Speed (mph)\")\n",
    "plt.annotate(s_equation, (-20,40), fontsize = 12, color = \"red\")\n",
    "plt.grid()\n",
    "plt.show()\n",
    "plt.savefig(\"South Lat x Wind.png\")"
   ]
  },
  {
   "cell_type": "code",
   "execution_count": 134,
   "metadata": {},
   "outputs": [
    {
     "name": "stdout",
     "output_type": "stream",
     "text": [
      "These scatter plots show the change in wind speed (mph) against city latitude by Northern and Southern Hemisphere. The Northern Hemisphere linear regression equation is: y = 0.09x + 5.14, whilst the Southern Hemisphere linear equation is: y = -0.09x + 7.81. The Northern Hemisphere shows a positive correlation, however the Sothern Hemisphere shows a negative correlaton; suggesting that the closer the latitude to the equator, the lower the wind speed (mph).\n"
     ]
    }
   ],
   "source": [
    "# After each pair of plots, explain what the linear regression is modeling. For example, describe any relationships that you notice and any other findings you may have.\n",
    "\n",
    "print(f\"These scatter plots show the change in wind speed (mph) against city latitude by Northern and Southern Hemisphere. The Northern Hemisphere linear regression equation is: {n_equation}, whilst the Southern Hemisphere linear equation is: {s_equation}. The Northern Hemisphere shows a positive correlation, however the Sothern Hemisphere shows a negative correlaton; suggesting that the closer the latitude to the equator, the lower the wind speed (mph).\")"
   ]
  },
  {
   "cell_type": "code",
   "execution_count": null,
   "metadata": {},
   "outputs": [],
   "source": []
  }
 ],
 "metadata": {
  "anaconda-cloud": {},
  "kernel_info": {
   "name": "python3"
  },
  "kernelspec": {
   "display_name": "Python 3.9.12 ('base')",
   "language": "python",
   "name": "python3"
  },
  "language_info": {
   "codemirror_mode": {
    "name": "ipython",
    "version": 3
   },
   "file_extension": ".py",
   "mimetype": "text/x-python",
   "name": "python",
   "nbconvert_exporter": "python",
   "pygments_lexer": "ipython3",
   "version": "3.9.12"
  },
  "latex_envs": {
   "LaTeX_envs_menu_present": true,
   "autoclose": false,
   "autocomplete": true,
   "bibliofile": "biblio.bib",
   "cite_by": "apalike",
   "current_citInitial": 1,
   "eqLabelWithNumbers": true,
   "eqNumInitial": 1,
   "hotkeys": {
    "equation": "Ctrl-E",
    "itemize": "Ctrl-I"
   },
   "labels_anchors": false,
   "latex_user_defs": false,
   "report_style_numbering": false,
   "user_envs_cfg": false
  },
  "nteract": {
   "version": "0.12.3"
  },
  "vscode": {
   "interpreter": {
    "hash": "8e0fdfd51b4c5792472ba286f860d66cf33e36862291742ec9bd59fc28066e88"
   }
  }
 },
 "nbformat": 4,
 "nbformat_minor": 2
}
